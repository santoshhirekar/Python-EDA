{
 "cells": [
  {
   "cell_type": "markdown",
   "id": "115e3213-1847-4761-bd30-7e4e7c174fcc",
   "metadata": {},
   "source": [
    "## Step to EDA\n",
    "step no 1:first read the dataset carefully abd understand the dataset\n",
    "\n",
    "2. We have to import 4 all libraries\n",
    "   \n",
    "3. We have to load the dataset\n",
    "\n",
    "4. We have to look column information using the formula df.info()\n",
    "\n",
    "5. We have to carfully the highest,lowest,and average value df.describe()\n",
    "\n",
    "6. After that we have to check first 5 rows of dataset df.head()\n",
    "and last 5 rows df.tail()"
   ]
  },
  {
   "cell_type": "markdown",
   "id": "4b29a519-97d4-403d-9d52-a9cd2aca9733",
   "metadata": {},
   "source": [
    "## 1.Banking Transaction Analysis (EDA)\n",
    "#### A Complate Exploratory Data Analysis (EDA) Project On Large scale banking dataset the project will include \n",
    "\n",
    "1. A realstic Dataset\n",
    "2. Step by step python code with explantions\n",
    "3. Visualizations and insights"
   ]
  },
  {
   "cell_type": "markdown",
   "id": "a2811a2a-ca93-442f-b679-87b99a28e650",
   "metadata": {},
   "source": [
    "#### Objective:\n",
    "1. Analyze bankin transactions from large dataset (1M+ records).\n",
    "2. Identify trends,custmor behavior, and fraud patterns.\n",
    "3. Perform exploratory data analysis (EDA) and visualize insights\n",
    "\n",
    "#### Dataset Used:\n",
    "Massive Bank Dataset (1M+ rows)\n",
    "\n",
    "#### Features Include:\n",
    "1. TransactionId: Unique identifier for each transaction.\n",
    "2. CustomerId: Unique Identifier for each customer.\n",
    "3. TransactionDate: Timestamp of transaction.\n",
    "4. TransactionType: (Credit,Debit,Transfer,Etc.)\n",
    "5. Amount: Transaction value.\n",
    "6. Location: Where the transaction happened.\n",
    "7. isfraud: 1 if fraud, 0 if genuine"
   ]
  },
  {
   "cell_type": "markdown",
   "id": "6de38a77-7bed-40ba-8df6-85da0ddb2142",
   "metadata": {},
   "source": [
    "## 2. Import Libraries & load data"
   ]
  },
  {
   "cell_type": "code",
   "execution_count": 10,
   "id": "177f1b9f-4d04-4d29-9d66-9d1274ef62bd",
   "metadata": {},
   "outputs": [],
   "source": [
    "# Imort required libraries\n",
    "import pandas as pd # For Data manipulation\n",
    "import numpy as np # For numerical analysis\n",
    "import matplotlib.pyplot as plt # For visualizations\n",
    "import seaborn as sns # For statical plots"
   ]
  },
  {
   "cell_type": "code",
   "execution_count": 11,
   "id": "1eb6e684-b852-41cc-b511-efe9d59562b0",
   "metadata": {},
   "outputs": [
    {
     "data": {
      "text/html": [
       "<div>\n",
       "<style scoped>\n",
       "    .dataframe tbody tr th:only-of-type {\n",
       "        vertical-align: middle;\n",
       "    }\n",
       "\n",
       "    .dataframe tbody tr th {\n",
       "        vertical-align: top;\n",
       "    }\n",
       "\n",
       "    .dataframe thead th {\n",
       "        text-align: right;\n",
       "    }\n",
       "</style>\n",
       "<table border=\"1\" class=\"dataframe\">\n",
       "  <thead>\n",
       "    <tr style=\"text-align: right;\">\n",
       "      <th></th>\n",
       "      <th>TransactionID</th>\n",
       "      <th>CustomerID</th>\n",
       "      <th>TransactionDate</th>\n",
       "      <th>TransactionType</th>\n",
       "      <th>Amount</th>\n",
       "      <th>Location</th>\n",
       "      <th>isFraud</th>\n",
       "    </tr>\n",
       "  </thead>\n",
       "  <tbody>\n",
       "    <tr>\n",
       "      <th>0</th>\n",
       "      <td>1</td>\n",
       "      <td>4174</td>\n",
       "      <td>2023-07-29 08:48:28</td>\n",
       "      <td>Withdrawal</td>\n",
       "      <td>19614.53</td>\n",
       "      <td>Boston</td>\n",
       "      <td>0</td>\n",
       "    </tr>\n",
       "    <tr>\n",
       "      <th>1</th>\n",
       "      <td>2</td>\n",
       "      <td>4507</td>\n",
       "      <td>2023-11-07 20:56:56</td>\n",
       "      <td>Deposit</td>\n",
       "      <td>8161.18</td>\n",
       "      <td>Los Angeles</td>\n",
       "      <td>0</td>\n",
       "    </tr>\n",
       "    <tr>\n",
       "      <th>2</th>\n",
       "      <td>3</td>\n",
       "      <td>1860</td>\n",
       "      <td>2023-12-20 17:38:37</td>\n",
       "      <td>Debit</td>\n",
       "      <td>18338.93</td>\n",
       "      <td>Miami</td>\n",
       "      <td>0</td>\n",
       "    </tr>\n",
       "    <tr>\n",
       "      <th>3</th>\n",
       "      <td>4</td>\n",
       "      <td>2294</td>\n",
       "      <td>2023-06-11 09:46:58</td>\n",
       "      <td>Credit</td>\n",
       "      <td>40.20</td>\n",
       "      <td>Dallas</td>\n",
       "      <td>0</td>\n",
       "    </tr>\n",
       "    <tr>\n",
       "      <th>4</th>\n",
       "      <td>5</td>\n",
       "      <td>2130</td>\n",
       "      <td>2023-03-02 16:50:38</td>\n",
       "      <td>Withdrawal</td>\n",
       "      <td>19239.09</td>\n",
       "      <td>Los Angeles</td>\n",
       "      <td>0</td>\n",
       "    </tr>\n",
       "    <tr>\n",
       "      <th>5</th>\n",
       "      <td>6</td>\n",
       "      <td>2095</td>\n",
       "      <td>2024-08-03 17:22:20</td>\n",
       "      <td>Credit</td>\n",
       "      <td>1699.69</td>\n",
       "      <td>Houston</td>\n",
       "      <td>0</td>\n",
       "    </tr>\n",
       "    <tr>\n",
       "      <th>6</th>\n",
       "      <td>7</td>\n",
       "      <td>4772</td>\n",
       "      <td>2024-08-14 07:36:13</td>\n",
       "      <td>Transfer</td>\n",
       "      <td>17099.50</td>\n",
       "      <td>Dallas</td>\n",
       "      <td>0</td>\n",
       "    </tr>\n",
       "    <tr>\n",
       "      <th>7</th>\n",
       "      <td>8</td>\n",
       "      <td>4092</td>\n",
       "      <td>2024-05-02 18:53:24</td>\n",
       "      <td>Withdrawal</td>\n",
       "      <td>16026.97</td>\n",
       "      <td>Dallas</td>\n",
       "      <td>0</td>\n",
       "    </tr>\n",
       "    <tr>\n",
       "      <th>8</th>\n",
       "      <td>9</td>\n",
       "      <td>2638</td>\n",
       "      <td>2024-01-07 02:41:20</td>\n",
       "      <td>Debit</td>\n",
       "      <td>2688.48</td>\n",
       "      <td>Houston</td>\n",
       "      <td>0</td>\n",
       "    </tr>\n",
       "    <tr>\n",
       "      <th>9</th>\n",
       "      <td>10</td>\n",
       "      <td>3169</td>\n",
       "      <td>2024-12-25 04:16:29</td>\n",
       "      <td>Debit</td>\n",
       "      <td>19087.43</td>\n",
       "      <td>Miami</td>\n",
       "      <td>0</td>\n",
       "    </tr>\n",
       "  </tbody>\n",
       "</table>\n",
       "</div>"
      ],
      "text/plain": [
       "   TransactionID  CustomerID      TransactionDate TransactionType    Amount  \\\n",
       "0              1        4174  2023-07-29 08:48:28      Withdrawal  19614.53   \n",
       "1              2        4507  2023-11-07 20:56:56         Deposit   8161.18   \n",
       "2              3        1860  2023-12-20 17:38:37           Debit  18338.93   \n",
       "3              4        2294  2023-06-11 09:46:58          Credit     40.20   \n",
       "4              5        2130  2023-03-02 16:50:38      Withdrawal  19239.09   \n",
       "5              6        2095  2024-08-03 17:22:20          Credit   1699.69   \n",
       "6              7        4772  2024-08-14 07:36:13        Transfer  17099.50   \n",
       "7              8        4092  2024-05-02 18:53:24      Withdrawal  16026.97   \n",
       "8              9        2638  2024-01-07 02:41:20           Debit   2688.48   \n",
       "9             10        3169  2024-12-25 04:16:29           Debit  19087.43   \n",
       "\n",
       "      Location  isFraud  \n",
       "0       Boston        0  \n",
       "1  Los Angeles        0  \n",
       "2        Miami        0  \n",
       "3       Dallas        0  \n",
       "4  Los Angeles        0  \n",
       "5      Houston        0  \n",
       "6       Dallas        0  \n",
       "7       Dallas        0  \n",
       "8      Houston        0  \n",
       "9        Miami        0  "
      ]
     },
     "execution_count": 11,
     "metadata": {},
     "output_type": "execute_result"
    }
   ],
   "source": [
    "# Load Dataset\n",
    "df =pd.read_csv(r\"C:\\Users\\91888\\Documents\\Python\\banking_transactions_1M.csv\")\n",
    "\n",
    "# Display first 5 rows\n",
    "df.head(10)"
   ]
  },
  {
   "cell_type": "markdown",
   "id": "c7d5634f-eaab-4872-91e1-d6b2d01d6afc",
   "metadata": {},
   "source": [
    "#### 3. Initial Data Ecploration\n",
    " ## Q1. How many transactions,column are in dataset?"
   ]
  },
  {
   "cell_type": "code",
   "execution_count": 13,
   "id": "cbed592a-7291-417f-8c3c-10ff71babebd",
   "metadata": {},
   "outputs": [
    {
     "data": {
      "text/plain": [
       "(1000000, 7)"
      ]
     },
     "execution_count": 13,
     "metadata": {},
     "output_type": "execute_result"
    }
   ],
   "source": [
    "df.shape"
   ]
  },
  {
   "cell_type": "markdown",
   "id": "b902be63-54b5-472d-99b6-20f7e0a54138",
   "metadata": {},
   "source": [
    "## Q2. What are the column names and data types?"
   ]
  },
  {
   "cell_type": "code",
   "execution_count": 15,
   "id": "f805fa01-9c60-4921-80d2-d68282eef5e8",
   "metadata": {},
   "outputs": [
    {
     "name": "stdout",
     "output_type": "stream",
     "text": [
      "<class 'pandas.core.frame.DataFrame'>\n",
      "RangeIndex: 1000000 entries, 0 to 999999\n",
      "Data columns (total 7 columns):\n",
      " #   Column           Non-Null Count    Dtype  \n",
      "---  ------           --------------    -----  \n",
      " 0   TransactionID    1000000 non-null  int64  \n",
      " 1   CustomerID       1000000 non-null  int64  \n",
      " 2   TransactionDate  1000000 non-null  object \n",
      " 3   TransactionType  1000000 non-null  object \n",
      " 4   Amount           1000000 non-null  float64\n",
      " 5   Location         1000000 non-null  object \n",
      " 6   isFraud          1000000 non-null  int64  \n",
      "dtypes: float64(1), int64(3), object(3)\n",
      "memory usage: 53.4+ MB\n"
     ]
    }
   ],
   "source": [
    "df.info()"
   ]
  },
  {
   "cell_type": "markdown",
   "id": "1c775f10-b52b-4594-9075-6f871f5de508",
   "metadata": {},
   "source": [
    "#### 4.Data Cleaning\n",
    "## Q3: Are there any missing values?"
   ]
  },
  {
   "cell_type": "code",
   "execution_count": 17,
   "id": "031e96f9-a0f2-4287-a424-b426f37b7684",
   "metadata": {},
   "outputs": [
    {
     "data": {
      "text/plain": [
       "TransactionID      0\n",
       "CustomerID         0\n",
       "TransactionDate    0\n",
       "TransactionType    0\n",
       "Amount             0\n",
       "Location           0\n",
       "isFraud            0\n",
       "dtype: int64"
      ]
     },
     "execution_count": 17,
     "metadata": {},
     "output_type": "execute_result"
    }
   ],
   "source": [
    "df.isnull().sum()"
   ]
  },
  {
   "cell_type": "markdown",
   "id": "59463f9b-f6b3-49a7-917d-6fb4ce9d903b",
   "metadata": {},
   "source": [
    "#### Q.4 Convert TransactionDate to datetime format"
   ]
  },
  {
   "cell_type": "code",
   "execution_count": 19,
   "id": "4ed1fd36-d02e-4465-961b-b318cf92d2db",
   "metadata": {},
   "outputs": [],
   "source": [
    "df[\"TransactionDate\"] = pd.to_datetime(df[\"TransactionDate\"]) # datatype object change to datatype datetime"
   ]
  },
  {
   "cell_type": "code",
   "execution_count": 20,
   "id": "f27ade97-7fa5-4fc5-99d1-c9f156db1bee",
   "metadata": {},
   "outputs": [
    {
     "data": {
      "text/html": [
       "<div>\n",
       "<style scoped>\n",
       "    .dataframe tbody tr th:only-of-type {\n",
       "        vertical-align: middle;\n",
       "    }\n",
       "\n",
       "    .dataframe tbody tr th {\n",
       "        vertical-align: top;\n",
       "    }\n",
       "\n",
       "    .dataframe thead th {\n",
       "        text-align: right;\n",
       "    }\n",
       "</style>\n",
       "<table border=\"1\" class=\"dataframe\">\n",
       "  <thead>\n",
       "    <tr style=\"text-align: right;\">\n",
       "      <th></th>\n",
       "      <th>TransactionID</th>\n",
       "      <th>CustomerID</th>\n",
       "      <th>TransactionDate</th>\n",
       "      <th>TransactionType</th>\n",
       "      <th>Amount</th>\n",
       "      <th>Location</th>\n",
       "      <th>isFraud</th>\n",
       "    </tr>\n",
       "  </thead>\n",
       "  <tbody>\n",
       "    <tr>\n",
       "      <th>0</th>\n",
       "      <td>1</td>\n",
       "      <td>4174</td>\n",
       "      <td>2023-07-29 08:48:28</td>\n",
       "      <td>Withdrawal</td>\n",
       "      <td>19614.53</td>\n",
       "      <td>Boston</td>\n",
       "      <td>0</td>\n",
       "    </tr>\n",
       "    <tr>\n",
       "      <th>1</th>\n",
       "      <td>2</td>\n",
       "      <td>4507</td>\n",
       "      <td>2023-11-07 20:56:56</td>\n",
       "      <td>Deposit</td>\n",
       "      <td>8161.18</td>\n",
       "      <td>Los Angeles</td>\n",
       "      <td>0</td>\n",
       "    </tr>\n",
       "    <tr>\n",
       "      <th>2</th>\n",
       "      <td>3</td>\n",
       "      <td>1860</td>\n",
       "      <td>2023-12-20 17:38:37</td>\n",
       "      <td>Debit</td>\n",
       "      <td>18338.93</td>\n",
       "      <td>Miami</td>\n",
       "      <td>0</td>\n",
       "    </tr>\n",
       "    <tr>\n",
       "      <th>3</th>\n",
       "      <td>4</td>\n",
       "      <td>2294</td>\n",
       "      <td>2023-06-11 09:46:58</td>\n",
       "      <td>Credit</td>\n",
       "      <td>40.20</td>\n",
       "      <td>Dallas</td>\n",
       "      <td>0</td>\n",
       "    </tr>\n",
       "    <tr>\n",
       "      <th>4</th>\n",
       "      <td>5</td>\n",
       "      <td>2130</td>\n",
       "      <td>2023-03-02 16:50:38</td>\n",
       "      <td>Withdrawal</td>\n",
       "      <td>19239.09</td>\n",
       "      <td>Los Angeles</td>\n",
       "      <td>0</td>\n",
       "    </tr>\n",
       "  </tbody>\n",
       "</table>\n",
       "</div>"
      ],
      "text/plain": [
       "   TransactionID  CustomerID     TransactionDate TransactionType    Amount  \\\n",
       "0              1        4174 2023-07-29 08:48:28      Withdrawal  19614.53   \n",
       "1              2        4507 2023-11-07 20:56:56         Deposit   8161.18   \n",
       "2              3        1860 2023-12-20 17:38:37           Debit  18338.93   \n",
       "3              4        2294 2023-06-11 09:46:58          Credit     40.20   \n",
       "4              5        2130 2023-03-02 16:50:38      Withdrawal  19239.09   \n",
       "\n",
       "      Location  isFraud  \n",
       "0       Boston        0  \n",
       "1  Los Angeles        0  \n",
       "2        Miami        0  \n",
       "3       Dallas        0  \n",
       "4  Los Angeles        0  "
      ]
     },
     "execution_count": 20,
     "metadata": {},
     "output_type": "execute_result"
    }
   ],
   "source": [
    "df.head()"
   ]
  },
  {
   "cell_type": "code",
   "execution_count": 21,
   "id": "62a4d5e0-f0af-4ab9-be24-de3266466a89",
   "metadata": {},
   "outputs": [
    {
     "name": "stdout",
     "output_type": "stream",
     "text": [
      "<class 'pandas.core.frame.DataFrame'>\n",
      "RangeIndex: 1000000 entries, 0 to 999999\n",
      "Data columns (total 7 columns):\n",
      " #   Column           Non-Null Count    Dtype         \n",
      "---  ------           --------------    -----         \n",
      " 0   TransactionID    1000000 non-null  int64         \n",
      " 1   CustomerID       1000000 non-null  int64         \n",
      " 2   TransactionDate  1000000 non-null  datetime64[ns]\n",
      " 3   TransactionType  1000000 non-null  object        \n",
      " 4   Amount           1000000 non-null  float64       \n",
      " 5   Location         1000000 non-null  object        \n",
      " 6   isFraud          1000000 non-null  int64         \n",
      "dtypes: datetime64[ns](1), float64(1), int64(3), object(2)\n",
      "memory usage: 53.4+ MB\n"
     ]
    }
   ],
   "source": [
    "df.info()"
   ]
  },
  {
   "cell_type": "code",
   "execution_count": 22,
   "id": "e0c6df0d-2c32-4399-8160-4897f4a95bfa",
   "metadata": {},
   "outputs": [
    {
     "data": {
      "text/html": [
       "<div>\n",
       "<style scoped>\n",
       "    .dataframe tbody tr th:only-of-type {\n",
       "        vertical-align: middle;\n",
       "    }\n",
       "\n",
       "    .dataframe tbody tr th {\n",
       "        vertical-align: top;\n",
       "    }\n",
       "\n",
       "    .dataframe thead th {\n",
       "        text-align: right;\n",
       "    }\n",
       "</style>\n",
       "<table border=\"1\" class=\"dataframe\">\n",
       "  <thead>\n",
       "    <tr style=\"text-align: right;\">\n",
       "      <th></th>\n",
       "      <th>TransactionID</th>\n",
       "      <th>CustomerID</th>\n",
       "      <th>TransactionDate</th>\n",
       "      <th>Amount</th>\n",
       "      <th>isFraud</th>\n",
       "    </tr>\n",
       "  </thead>\n",
       "  <tbody>\n",
       "    <tr>\n",
       "      <th>count</th>\n",
       "      <td>1000000.000000</td>\n",
       "      <td>1000000.000000</td>\n",
       "      <td>1000000</td>\n",
       "      <td>1000000.000000</td>\n",
       "      <td>1000000.000000</td>\n",
       "    </tr>\n",
       "    <tr>\n",
       "      <th>mean</th>\n",
       "      <td>500000.500000</td>\n",
       "      <td>2999.146814</td>\n",
       "      <td>2024-02-05 03:33:35.710377216</td>\n",
       "      <td>9997.653585</td>\n",
       "      <td>0.005065</td>\n",
       "    </tr>\n",
       "    <tr>\n",
       "      <th>min</th>\n",
       "      <td>1.000000</td>\n",
       "      <td>1000.000000</td>\n",
       "      <td>2023-02-04 19:34:00</td>\n",
       "      <td>10.010000</td>\n",
       "      <td>0.000000</td>\n",
       "    </tr>\n",
       "    <tr>\n",
       "      <th>25%</th>\n",
       "      <td>250000.750000</td>\n",
       "      <td>2000.000000</td>\n",
       "      <td>2023-08-06 11:00:22.500000</td>\n",
       "      <td>5009.797500</td>\n",
       "      <td>0.000000</td>\n",
       "    </tr>\n",
       "    <tr>\n",
       "      <th>50%</th>\n",
       "      <td>500000.500000</td>\n",
       "      <td>2998.000000</td>\n",
       "      <td>2024-02-04 23:41:56</td>\n",
       "      <td>9992.690000</td>\n",
       "      <td>0.000000</td>\n",
       "    </tr>\n",
       "    <tr>\n",
       "      <th>75%</th>\n",
       "      <td>750000.250000</td>\n",
       "      <td>3999.000000</td>\n",
       "      <td>2024-08-05 21:13:23.249999872</td>\n",
       "      <td>14991.605000</td>\n",
       "      <td>0.000000</td>\n",
       "    </tr>\n",
       "    <tr>\n",
       "      <th>max</th>\n",
       "      <td>1000000.000000</td>\n",
       "      <td>4999.000000</td>\n",
       "      <td>2025-02-04 07:02:15</td>\n",
       "      <td>19999.990000</td>\n",
       "      <td>1.000000</td>\n",
       "    </tr>\n",
       "    <tr>\n",
       "      <th>std</th>\n",
       "      <td>288675.278933</td>\n",
       "      <td>1154.309681</td>\n",
       "      <td>NaN</td>\n",
       "      <td>5768.751350</td>\n",
       "      <td>0.070988</td>\n",
       "    </tr>\n",
       "  </tbody>\n",
       "</table>\n",
       "</div>"
      ],
      "text/plain": [
       "        TransactionID      CustomerID                TransactionDate  \\\n",
       "count  1000000.000000  1000000.000000                        1000000   \n",
       "mean    500000.500000     2999.146814  2024-02-05 03:33:35.710377216   \n",
       "min          1.000000     1000.000000            2023-02-04 19:34:00   \n",
       "25%     250000.750000     2000.000000     2023-08-06 11:00:22.500000   \n",
       "50%     500000.500000     2998.000000            2024-02-04 23:41:56   \n",
       "75%     750000.250000     3999.000000  2024-08-05 21:13:23.249999872   \n",
       "max    1000000.000000     4999.000000            2025-02-04 07:02:15   \n",
       "std     288675.278933     1154.309681                            NaN   \n",
       "\n",
       "               Amount         isFraud  \n",
       "count  1000000.000000  1000000.000000  \n",
       "mean      9997.653585        0.005065  \n",
       "min         10.010000        0.000000  \n",
       "25%       5009.797500        0.000000  \n",
       "50%       9992.690000        0.000000  \n",
       "75%      14991.605000        0.000000  \n",
       "max      19999.990000        1.000000  \n",
       "std       5768.751350        0.070988  "
      ]
     },
     "execution_count": 22,
     "metadata": {},
     "output_type": "execute_result"
    }
   ],
   "source": [
    "df.describe()"
   ]
  },
  {
   "cell_type": "code",
   "execution_count": 23,
   "id": "3927d015-dde4-4cbb-9dcd-ac3e5c46b4b7",
   "metadata": {},
   "outputs": [
    {
     "data": {
      "text/html": [
       "<div>\n",
       "<style scoped>\n",
       "    .dataframe tbody tr th:only-of-type {\n",
       "        vertical-align: middle;\n",
       "    }\n",
       "\n",
       "    .dataframe tbody tr th {\n",
       "        vertical-align: top;\n",
       "    }\n",
       "\n",
       "    .dataframe thead th {\n",
       "        text-align: right;\n",
       "    }\n",
       "</style>\n",
       "<table border=\"1\" class=\"dataframe\">\n",
       "  <thead>\n",
       "    <tr style=\"text-align: right;\">\n",
       "      <th></th>\n",
       "      <th>TransactionType</th>\n",
       "      <th>Location</th>\n",
       "    </tr>\n",
       "  </thead>\n",
       "  <tbody>\n",
       "    <tr>\n",
       "      <th>count</th>\n",
       "      <td>1000000</td>\n",
       "      <td>1000000</td>\n",
       "    </tr>\n",
       "    <tr>\n",
       "      <th>unique</th>\n",
       "      <td>5</td>\n",
       "      <td>10</td>\n",
       "    </tr>\n",
       "    <tr>\n",
       "      <th>top</th>\n",
       "      <td>Debit</td>\n",
       "      <td>Los Angeles</td>\n",
       "    </tr>\n",
       "    <tr>\n",
       "      <th>freq</th>\n",
       "      <td>200447</td>\n",
       "      <td>100748</td>\n",
       "    </tr>\n",
       "  </tbody>\n",
       "</table>\n",
       "</div>"
      ],
      "text/plain": [
       "       TransactionType     Location\n",
       "count          1000000      1000000\n",
       "unique               5           10\n",
       "top              Debit  Los Angeles\n",
       "freq            200447       100748"
      ]
     },
     "execution_count": 23,
     "metadata": {},
     "output_type": "execute_result"
    }
   ],
   "source": [
    "df.describe(include=\"object\")"
   ]
  },
  {
   "cell_type": "code",
   "execution_count": 24,
   "id": "49095793-1171-4dfc-b667-dc3dec74fa3a",
   "metadata": {},
   "outputs": [
    {
     "data": {
      "text/plain": [
       "Index(['TransactionID', 'CustomerID', 'TransactionDate', 'TransactionType',\n",
       "       'Amount', 'Location', 'isFraud'],\n",
       "      dtype='object')"
      ]
     },
     "execution_count": 24,
     "metadata": {},
     "output_type": "execute_result"
    }
   ],
   "source": [
    "df.columns"
   ]
  },
  {
   "cell_type": "code",
   "execution_count": 25,
   "id": "76408dc9-dc5e-488a-9119-2a46a92d27b9",
   "metadata": {},
   "outputs": [
    {
     "data": {
      "text/plain": [
       "1000000"
      ]
     },
     "execution_count": 25,
     "metadata": {},
     "output_type": "execute_result"
    }
   ],
   "source": [
    "df.TransactionID.nunique() "
   ]
  },
  {
   "cell_type": "markdown",
   "id": "1ec1fb72-1ab4-4d6b-a43f-247d315d544d",
   "metadata": {},
   "source": [
    "#### 5. Transaction Data Analysis\n",
    "## Q.5 What are the unique transactions types?"
   ]
  },
  {
   "cell_type": "code",
   "execution_count": 27,
   "id": "7a4516a9-9630-4f84-bc55-b22fd6e3cb73",
   "metadata": {},
   "outputs": [
    {
     "name": "stdout",
     "output_type": "stream",
     "text": [
      "<class 'pandas.core.frame.DataFrame'>\n",
      "RangeIndex: 1000000 entries, 0 to 999999\n",
      "Data columns (total 7 columns):\n",
      " #   Column           Non-Null Count    Dtype         \n",
      "---  ------           --------------    -----         \n",
      " 0   TransactionID    1000000 non-null  int64         \n",
      " 1   CustomerID       1000000 non-null  int64         \n",
      " 2   TransactionDate  1000000 non-null  datetime64[ns]\n",
      " 3   TransactionType  1000000 non-null  object        \n",
      " 4   Amount           1000000 non-null  float64       \n",
      " 5   Location         1000000 non-null  object        \n",
      " 6   isFraud          1000000 non-null  int64         \n",
      "dtypes: datetime64[ns](1), float64(1), int64(3), object(2)\n",
      "memory usage: 53.4+ MB\n"
     ]
    }
   ],
   "source": [
    "df.info()"
   ]
  },
  {
   "cell_type": "code",
   "execution_count": 28,
   "id": "644920d4-e6e2-4f52-a8f8-fdb932013651",
   "metadata": {},
   "outputs": [
    {
     "data": {
      "text/plain": [
       "TransactionType\n",
       "Debit         200447\n",
       "Transfer      200209\n",
       "Withdrawal    199898\n",
       "Credit        199799\n",
       "Deposit       199647\n",
       "Name: count, dtype: int64"
      ]
     },
     "execution_count": 28,
     "metadata": {},
     "output_type": "execute_result"
    }
   ],
   "source": [
    "df[\"TransactionType\"].value_counts()"
   ]
  },
  {
   "cell_type": "markdown",
   "id": "77dcbe5b-7299-4913-ba89-dcdd45a41d18",
   "metadata": {},
   "source": [
    "#### 6. What are the unique Amount types?"
   ]
  },
  {
   "cell_type": "code",
   "execution_count": 30,
   "id": "9d0f1ef5-ce93-4be0-a422-e92358751242",
   "metadata": {},
   "outputs": [
    {
     "data": {
      "text/plain": [
       "Amount\n",
       "19405.63    7\n",
       "7823.82     7\n",
       "15013.71    7\n",
       "11094.10    6\n",
       "7909.45     6\n",
       "           ..\n",
       "15227.31    1\n",
       "17157.39    1\n",
       "2244.56     1\n",
       "13622.28    1\n",
       "16198.05    1\n",
       "Name: count, Length: 786884, dtype: int64"
      ]
     },
     "execution_count": 30,
     "metadata": {},
     "output_type": "execute_result"
    }
   ],
   "source": [
    "df[\"Amount\"].value_counts()"
   ]
  },
  {
   "cell_type": "markdown",
   "id": "dfcf14c4-3999-4ead-bc1d-9c8606762827",
   "metadata": {},
   "source": [
    "#### 7.What are the unique location types?"
   ]
  },
  {
   "cell_type": "code",
   "execution_count": 32,
   "id": "878de312-47a3-4c89-a54d-804761659b94",
   "metadata": {},
   "outputs": [
    {
     "data": {
      "text/plain": [
       "Location\n",
       "Los Angeles      100748\n",
       "Miami            100334\n",
       "San Francisco    100272\n",
       "Chicago          100020\n",
       "New York          99983\n",
       "Dallas            99942\n",
       "Boston            99876\n",
       "Las Vegas         99776\n",
       "Houston           99550\n",
       "Seattle           99499\n",
       "Name: count, dtype: int64"
      ]
     },
     "execution_count": 32,
     "metadata": {},
     "output_type": "execute_result"
    }
   ],
   "source": [
    "df[\"Location\"].value_counts()"
   ]
  },
  {
   "cell_type": "markdown",
   "id": "8a51b820-20d6-4916-8fcf-d9420b63cad0",
   "metadata": {},
   "source": [
    "#### What are the unique TransactionID types?"
   ]
  },
  {
   "cell_type": "code",
   "execution_count": 34,
   "id": "8977ea26-54d9-4d48-a15f-18f34fef2645",
   "metadata": {},
   "outputs": [
    {
     "data": {
      "text/plain": [
       "TransactionID\n",
       "1          1\n",
       "666658     1\n",
       "666660     1\n",
       "666661     1\n",
       "666662     1\n",
       "          ..\n",
       "333338     1\n",
       "333339     1\n",
       "333340     1\n",
       "333341     1\n",
       "1000000    1\n",
       "Name: count, Length: 1000000, dtype: int64"
      ]
     },
     "execution_count": 34,
     "metadata": {},
     "output_type": "execute_result"
    }
   ],
   "source": [
    "df[\"TransactionID\"].value_counts()"
   ]
  },
  {
   "cell_type": "markdown",
   "id": "d17ab3f9-1090-4450-b949-4ec2ac807cac",
   "metadata": {},
   "source": [
    "#### 9.What are the unique CustmorID types?"
   ]
  },
  {
   "cell_type": "code",
   "execution_count": 36,
   "id": "d5d01714-be50-4e42-90f4-b27436438fa1",
   "metadata": {},
   "outputs": [
    {
     "data": {
      "text/plain": [
       "CustomerID\n",
       "4444    313\n",
       "2013    305\n",
       "1386    304\n",
       "1213    301\n",
       "2753    300\n",
       "       ... \n",
       "1999    202\n",
       "2002    201\n",
       "3432    201\n",
       "4640    194\n",
       "3706    193\n",
       "Name: count, Length: 4000, dtype: int64"
      ]
     },
     "execution_count": 36,
     "metadata": {},
     "output_type": "execute_result"
    }
   ],
   "source": [
    "df[\"CustomerID\"].value_counts()"
   ]
  },
  {
   "cell_type": "markdown",
   "id": "d5fc39ca-b33a-4998-b933-19937184d3b2",
   "metadata": {},
   "source": [
    "#### 10.What is the most common transaction type?"
   ]
  },
  {
   "cell_type": "code",
   "execution_count": 38,
   "id": "8613a785-fb9b-4292-93bc-150f17d03b88",
   "metadata": {},
   "outputs": [
    {
     "data": {
      "text/plain": [
       "<function matplotlib.pyplot.show(close=None, block=None)>"
      ]
     },
     "execution_count": 38,
     "metadata": {},
     "output_type": "execute_result"
    },
    {
     "data": {
      "image/png": "[encoded data removed]",
      "text/plain": [
       "<Figure size 640x480 with 1 Axes>"
      ]
     },
     "metadata": {},
     "output_type": "display_data"
    }
   ],
   "source": [
    "sns.countplot(data=df,x=\"TransactionType\")\n",
    "plt.title(\"Transaction Type Distribution\") # To add the title namwe of visulization\n",
    "plt.show # to show the visulization"
   ]
  },
  {
   "cell_type": "markdown",
   "id": "3e2b4772-1665-4c21-b205-1cb03f0a50c2",
   "metadata": {},
   "source": [
    "#### What is the most common location?"
   ]
  },
  {
   "cell_type": "code",
   "execution_count": 40,
   "id": "f8fea070-f786-49a7-9e6b-4984ec3c33a6",
   "metadata": {},
   "outputs": [
    {
     "data": {
      "text/plain": [
       "<function matplotlib.pyplot.show(close=None, block=None)>"
      ]
     },
     "execution_count": 40,
     "metadata": {},
     "output_type": "execute_result"
    },
    {
     "data": {
      "image/png": "[encoded data removed]",
      "text/plain": [
       "<Figure size 640x480 with 1 Axes>"
      ]
     },
     "metadata": {},
     "output_type": "display_data"
    }
   ],
   "source": [
    "sns.countplot(data=df,x=\"Location\")\n",
    "plt.title(\"Location Type Distribution\")\n",
    "plt.show"
   ]
  },
  {
   "cell_type": "markdown",
   "id": "ad1a4222-f121-4f06-a249-3d1dbf379b88",
   "metadata": {},
   "source": [
    "#### What is the most common isFraud?"
   ]
  },
  {
   "cell_type": "code",
   "execution_count": 42,
   "id": "46450e13-58ad-4993-b8ce-f0d1dd31767e",
   "metadata": {},
   "outputs": [
    {
     "data": {
      "text/plain": [
       "<function matplotlib.pyplot.show(close=None, block=None)>"
      ]
     },
     "execution_count": 42,
     "metadata": {},
     "output_type": "execute_result"
    },
    {
     "data": {
      "image/png": "[encoded data removed]",
      "text/plain": [
       "<Figure size 640x480 with 1 Axes>"
      ]
     },
     "metadata": {},
     "output_type": "display_data"
    }
   ],
   "source": [
    "sns.countplot(data=df,x=\"isFraud\")\n",
    "plt.title(\"isFraud Type Distribution\")\n",
    "plt.show"
   ]
  },
  {
   "cell_type": "markdown",
   "id": "cfdcaad3-6cfb-41ee-87e8-8d7911ca5313",
   "metadata": {},
   "source": [
    "#### 11.Transaction Amount Analysis\n",
    "#### What is the average Transaction amount?"
   ]
  },
  {
   "cell_type": "code",
   "execution_count": 44,
   "id": "424215d3-2085-4ba9-af56-e9d6227b829a",
   "metadata": {},
   "outputs": [
    {
     "data": {
      "text/plain": [
       "9997.653584529995"
      ]
     },
     "execution_count": 44,
     "metadata": {},
     "output_type": "execute_result"
    }
   ],
   "source": [
    "df[\"Amount\"].mean() # mean is average"
   ]
  },
  {
   "cell_type": "markdown",
   "id": "077702e6-6b85-479e-98b2-cff8a1a86dea",
   "metadata": {},
   "source": [
    "#### 1. Mean (Average)\n",
    "The mean is the sum of all the numbers in a dataset, divided by the total number of values in that dataset.\n",
    "\n",
    "Formula:\n",
    "\n",
    "Mean\n",
    "=\n",
    "Sum of all values\n",
    "Number of values\n",
    "Mean= \n",
    "Number of values\n",
    "Sum of all values\n",
    "​\n",
    " \n",
    "Example:\n",
    "Consider the data set: 2, 4, 6, 8, 10.\n",
    "\n",
    "To find the mean:\n",
    "\n",
    "Sum the values: \n",
    "2\n",
    "+\n",
    "4\n",
    "+\n",
    "6\n",
    "+\n",
    "8\n",
    "+\n",
    "10\n",
    "=\n",
    "30\n",
    "2+4+6+8+10=30\n",
    "Divide by the number of values: \n",
    "30\n",
    "÷\n",
    "5\n",
    "=\n",
    "6\n",
    "30÷5=6\n",
    "So, the mean is 6.\n",
    "\n",
    "2. Median\n",
    "The median is the middle value of a dataset when the values are arranged in order (from least to greatest or greatest to least). If there's an even number of values, the median is the average of the two middle values.\n",
    "\n",
    "Steps:\n",
    "\n",
    "Arrange the data in increasing order.\n",
    "Find the middle number.\n",
    "If there’s an odd number of values, it's the one in the middle.\n",
    "If there’s an even number of values, it's the average of the two middle numbers.\n",
    "Example:\n",
    "Consider the data set: 2, 4, 6, 8, 10.\n",
    "\n",
    "The values are already in order.\n",
    "The middle value is 6, so the median is 6.\n",
    "If the data set were: 1, 3, 5, 7,\n",
    "\n",
    "The two middle values are 3 and 5.\n",
    "The median is \n",
    "3\n",
    "+\n",
    "5\n",
    "2\n",
    "=\n",
    "4\n",
    "2\n",
    "3+5\n",
    "​\n",
    " =4.\n",
    "3. Mode\n",
    "The mode is the number that appears most frequently in a dataset. A dataset may have one mode, more than one mode, or no mode at all.\n",
    "\n",
    "Example:\n",
    "Consider the data set: 2, 4, 4, 6, 8.\n",
    "\n",
    "The number 4 appears twice, while the other numbers appear only once.\n",
    "So, the mode is 4.\n",
    "If all numbers occur with the same frequency (e.g., 2, 4, 6, 8), there is no mode.\n",
    "\n",
    "Summary:\n",
    "Mean: Add up all values, then divide by the number of values.\n",
    "Median: The middle value when arranged in order.\n",
    "Mode: The value that appears most frequently."
   ]
  },
  {
   "cell_type": "code",
   "execution_count": 46,
   "id": "22d5bb31-d180-46f9-a6b2-2631ef837768",
   "metadata": {},
   "outputs": [
    {
     "data": {
      "text/plain": [
       "9992.689999999999"
      ]
     },
     "execution_count": 46,
     "metadata": {},
     "output_type": "execute_result"
    }
   ],
   "source": [
    "df[\"Amount\"].median() # middle value"
   ]
  },
  {
   "cell_type": "code",
   "execution_count": 47,
   "id": "371b7a9a-6f5a-4a0e-862c-eee57bd3163e",
   "metadata": {},
   "outputs": [
    {
     "data": {
      "text/plain": [
       "0     7823.82\n",
       "1    15013.71\n",
       "2    19405.63\n",
       "Name: Amount, dtype: float64"
      ]
     },
     "execution_count": 47,
     "metadata": {},
     "output_type": "execute_result"
    }
   ],
   "source": [
    "df[\"Amount\"].mode() # maximum time numbers frequency"
   ]
  },
  {
   "cell_type": "markdown",
   "id": "84615f9b-d60f-418c-bdad-296ba358418c",
   "metadata": {},
   "source": [
    "#### 12.What is the distribution of transaction amounts?"
   ]
  },
  {
   "cell_type": "code",
   "execution_count": 49,
   "id": "c89d76a3-1e03-4a29-adf7-9eb05ecfa17e",
   "metadata": {},
   "outputs": [
    {
     "data": {
      "image/png": "[encoded data removed]",
      "text/plain": [
       "<Figure size 1000x500 with 1 Axes>"
      ]
     },
     "metadata": {},
     "output_type": "display_data"
    },
    {
     "data": {
      "text/plain": [
       "'plt.show(): Finally, this command displays the plot on the screen. It renders the plot so that it can\\xa0be\\xa0viewed.'"
      ]
     },
     "execution_count": 49,
     "metadata": {},
     "output_type": "execute_result"
    }
   ],
   "source": [
    "plt.figure(figsize=(10,5)) #plt.figure(figsize=(10, 5)): This line creates a new figure (a blank canvas) for plotting.\n",
    "#The figsize argument specifies the size of the figure in inches. \n",
    "#Here, the width is 10 inches and the height is 5 inches.\n",
    "#This ensures the plot will be large and easy to view.\n",
    "sns.histplot(df[\"Amount\"],bins=50,kde=True)\n",
    "\"\"\"sns.histplot(...): This is a function from Seaborn (a visualization library built on top of Matplotlib) to create a histogram plot. The histogram shows the distribution of data, i.e., how data is spread out.\n",
    "df[\"Amount\"]: This refers to a specific column in your DataFrame df, specifically the \"Amount\" column. It represents the transaction amounts in the dataset.\n",
    "bins=50: This defines how many bins (intervals) to use for the histogram. In this case, the data will be divided into 50 intervals to show the distribution.\n",
    "kde=True: This adds a Kernel Density Estimation (KDE) curve to the histogram. The KDE curve is a smooth line that estimates the probability density function of the data. It helps visualize the underlying distribution of the data in addition to the histogram.\"\"\"\n",
    "plt.title(\"Transaction Amount Distribution\")\n",
    "#plt.title(\"Transaction Amount Distribution\"): This line adds a title to the plot. The title here is \"Transaction Amount Distribution,\" which helps the viewer understand what the plot is showing (distribution of transaction amounts).\n",
    "plt.xlabel(\"Amount\")\n",
    "\"\"\"plt.xlabel(\"Amount\"): This line sets the label for the x-axis (horizontal axis) to \"Amount\". This tells the viewer that the x-axis represents transaction amounts.\"\"\"\n",
    "plt.ylabel(\"Frequency\")\n",
    "\"\"\"plt.ylabel(\"Frequency\"): This line sets the label for the y-axis (vertical axis) to \"Frequency\". This tells the viewer that the y-axis represents the frequency (or count) of transactions in each bin.\"\"\"\n",
    "plt.show()\n",
    "\"\"\"plt.show(): Finally, this command displays the plot on the screen. It renders the plot so that it can be viewed.\"\"\"\n"
   ]
  },
  {
   "cell_type": "markdown",
   "id": "d22d3603-fadc-4e70-b76b-c012e2e99faa",
   "metadata": {},
   "source": [
    "####  Customer Behavior Analysis\n",
    "## Q.13 How many unique  customers are there?"
   ]
  },
  {
   "cell_type": "code",
   "execution_count": 51,
   "id": "c3f5fd69-abae-4601-972c-e135fafd2dce",
   "metadata": {},
   "outputs": [
    {
     "data": {
      "text/plain": [
       "10"
      ]
     },
     "execution_count": 51,
     "metadata": {},
     "output_type": "execute_result"
    }
   ],
   "source": [
    "df[\"Location\"].nunique()"
   ]
  },
  {
   "cell_type": "markdown",
   "id": "ed0b98ba-d0a6-4ebd-8ddf-3890a99c7069",
   "metadata": {},
   "source": [
    "#### Q/14 Which Customers have the highest total transactions?\n"
   ]
  },
  {
   "cell_type": "code",
   "execution_count": 53,
   "id": "ae5a71c4-3d80-4f9e-9af4-7f6bb55c290c",
   "metadata": {},
   "outputs": [
    {
     "data": {
      "text/plain": [
       "CustomerID\n",
       "3225    3173403.37\n",
       "3617    3173066.73\n",
       "1386    3161132.70\n",
       "1161    3134676.23\n",
       "3529    3064485.59\n",
       "Name: Amount, dtype: float64"
      ]
     },
     "execution_count": 53,
     "metadata": {},
     "output_type": "execute_result"
    }
   ],
   "source": [
    "df.groupby(\"CustomerID\")[\"Amount\"].sum().sort_values(ascending=False).head()"
   ]
  },
  {
   "cell_type": "code",
   "execution_count": 54,
   "id": "a34c66b1-a114-4415-a5c4-d7e4e75d0fdc",
   "metadata": {
    "scrolled": true
   },
   "outputs": [
    {
     "data": {
      "text/plain": [
       "CustomerID\n",
       "3529    3064485.59\n",
       "1161    3134676.23\n",
       "1386    3161132.70\n",
       "3617    3173066.73\n",
       "3225    3173403.37\n",
       "Name: Amount, dtype: float64"
      ]
     },
     "execution_count": 54,
     "metadata": {},
     "output_type": "execute_result"
    }
   ],
   "source": [
    "df.groupby(\"CustomerID\")[\"Amount\"].sum().sort_values(ascending=True).tail()"
   ]
  },
  {
   "cell_type": "code",
   "execution_count": 55,
   "id": "3cb30eb7-411c-42e3-b710-d0a64acdd38c",
   "metadata": {},
   "outputs": [
    {
     "data": {
      "text/plain": [
       "CustomerID\n",
       "3225    3173403.37\n",
       "3617    3173066.73\n",
       "1386    3161132.70\n",
       "1161    3134676.23\n",
       "3529    3064485.59\n",
       "2255    3034886.44\n",
       "1620    3032669.06\n",
       "1213    3028768.06\n",
       "4968    3025126.69\n",
       "3050    3023650.82\n",
       "1107    3021540.78\n",
       "3196    3018276.61\n",
       "Name: Amount, dtype: float64"
      ]
     },
     "execution_count": 55,
     "metadata": {},
     "output_type": "execute_result"
    }
   ],
   "source": [
    "df.groupby(\"CustomerID\")[\"Amount\"].sum().sort_values(ascending=False).head(12)"
   ]
  },
  {
   "cell_type": "markdown",
   "id": "e559bdfe-c3ec-481f-9697-b4e9a8c5013b",
   "metadata": {},
   "source": [
    "\"\"\"df.groupby(\"CustomerID\"):\n",
    "\n",
    "groupby(\"CustomerID\"): This groups the data in the DataFrame df by the \"CustomerID\" column. This means the rows in the DataFrame are grouped based on unique customer IDs. After grouping, you can perform operations on each group (in this case, customer) individually.\n",
    "[\"Amount\"].sum():\n",
    "\n",
    "[\"Amount\"]: After grouping by \"CustomerID\", we are focusing on the \"Amount\" column, which presumably contains the transaction amounts.\n",
    ".sum(): This aggregates (sums up) the \"Amount\" values for each customer. It calculates the total spending per customer by summing up all the transaction amounts for each customer ID.\n",
    ".sort_values(ascending=False):\n",
    "\n",
    ".sort_values(ascending=False): This sorts the resulting sums of transaction amounts in descending order, so the customers who have spent the most are listed first. By default, ascending=False sorts in descending order (highest to lowest).\n",
    ".head(10):\n",
    "\n",
    ".head(10): After sorting, this function selects the first 10 rows of the result. These will be the top 10 customers who have spent the most, according to the \"Amount\" column.\"\"\""
   ]
  },
  {
   "cell_type": "markdown",
   "id": "ded78d4b-d7b8-479c-a553-7c88a0f1960d",
   "metadata": {},
   "source": [
    "#### Q/15 Which customerid have the 30 highest total transactions?"
   ]
  },
  {
   "cell_type": "code",
   "execution_count": 58,
   "id": "2d4eba34-7580-480f-b5e6-fc070471add5",
   "metadata": {},
   "outputs": [
    {
     "data": {
      "text/plain": [
       "TransactionID\n",
       "258781    19999.99\n",
       "818886    19999.96\n",
       "914731    19999.92\n",
       "982417    19999.92\n",
       "609348    19999.91\n",
       "184247    19999.90\n",
       "597609    19999.89\n",
       "330748    19999.83\n",
       "393513    19999.83\n",
       "765005    19999.82\n",
       "940303    19999.82\n",
       "137510    19999.81\n",
       "132266    19999.76\n",
       "192941    19999.73\n",
       "597209    19999.71\n",
       "914288    19999.71\n",
       "257769    19999.70\n",
       "574808    19999.67\n",
       "181041    19999.65\n",
       "914770    19999.65\n",
       "987555    19999.64\n",
       "259314    19999.59\n",
       "876799    19999.58\n",
       "693896    19999.56\n",
       "600712    19999.55\n",
       "465428    19999.52\n",
       "285863    19999.52\n",
       "462461    19999.51\n",
       "541249    19999.50\n",
       "623530    19999.48\n",
       "Name: Amount, dtype: float64"
      ]
     },
     "execution_count": 58,
     "metadata": {},
     "output_type": "execute_result"
    }
   ],
   "source": [
    "df.groupby(\"TransactionID\")[\"Amount\"].sum().sort_values(ascending=False).head(30)"
   ]
  },
  {
   "cell_type": "markdown",
   "id": "56546346-be9b-4dce-a9af-63a08187855c",
   "metadata": {},
   "source": [
    "### Which city have the highest transaction"
   ]
  },
  {
   "cell_type": "code",
   "execution_count": 60,
   "id": "918002fb-89f6-44ba-88e5-492ae895e40a",
   "metadata": {},
   "outputs": [
    {
     "data": {
      "text/plain": [
       "Location\n",
       "Los Angeles      1.007472e+09\n",
       "San Francisco    1.003159e+09\n",
       "Miami            1.002906e+09\n",
       "New York         1.001464e+09\n",
       "Dallas           9.994833e+08\n",
       "Name: Amount, dtype: float64"
      ]
     },
     "execution_count": 60,
     "metadata": {},
     "output_type": "execute_result"
    }
   ],
   "source": [
    "df.groupby(\"Location\")[\"Amount\"].sum().sort_values(ascending=False).head()"
   ]
  },
  {
   "cell_type": "markdown",
   "id": "5f017b3a-efbf-4694-a389-b67466ff6484",
   "metadata": {},
   "source": [
    "#### Location Analysis\n",
    "## Q.14 What are the top 5 locations by transactions volume "
   ]
  },
  {
   "cell_type": "code",
   "execution_count": 62,
   "id": "ff7cf9de-17dd-4250-99e9-f30676d3e295",
   "metadata": {},
   "outputs": [
    {
     "data": {
      "text/plain": [
       "Location\n",
       "Los Angeles      100748\n",
       "Miami            100334\n",
       "San Francisco    100272\n",
       "Chicago          100020\n",
       "New York          99983\n",
       "Name: count, dtype: int64"
      ]
     },
     "execution_count": 62,
     "metadata": {},
     "output_type": "execute_result"
    }
   ],
   "source": [
    "df[\"Location\"].value_counts().head(5)"
   ]
  },
  {
   "cell_type": "markdown",
   "id": "ce04bf82-9a22-4c2c-af25-47e892f3ca22",
   "metadata": {},
   "source": [
    "#### top 5 amount"
   ]
  },
  {
   "cell_type": "code",
   "execution_count": 64,
   "id": "b031f58c-070b-4fad-b515-7b0e25fd1ef7",
   "metadata": {},
   "outputs": [
    {
     "data": {
      "text/plain": [
       "Amount\n",
       "19405.63    7\n",
       "7823.82     7\n",
       "15013.71    7\n",
       "11094.10    6\n",
       "7909.45     6\n",
       "Name: count, dtype: int64"
      ]
     },
     "execution_count": 64,
     "metadata": {},
     "output_type": "execute_result"
    }
   ],
   "source": [
    "df[\"Amount\"].value_counts().head(5)"
   ]
  },
  {
   "cell_type": "code",
   "execution_count": 65,
   "id": "8e257343-0964-4b84-a6fa-e6ff5465d418",
   "metadata": {},
   "outputs": [
    {
     "data": {
      "text/plain": [
       "CustomerID\n",
       "4444    313\n",
       "2013    305\n",
       "1386    304\n",
       "1213    301\n",
       "2753    300\n",
       "Name: count, dtype: int64"
      ]
     },
     "execution_count": 65,
     "metadata": {},
     "output_type": "execute_result"
    }
   ],
   "source": [
    "df[\"CustomerID\"].value_counts().head(5)"
   ]
  },
  {
   "cell_type": "markdown",
   "id": "fce26022-9bf5-416f-8205-81da62668623",
   "metadata": {},
   "source": [
    "\"\"\"The code df[\"Location\"].value_counts().head(5) is used to find the top 5 most frequent locations in the \"Location\" column of your DataFrame df. Let's break it down:\n",
    "\n",
    "Line-by-line explanation:\n",
    "df[\"Location\"]:\n",
    "\n",
    "df[\"Location\"]: This accesses the \"Location\" column in your DataFrame df. The \"Location\" column likely contains information about where the transaction took place, or the location of customers, etc.\n",
    "value_counts():\n",
    "\n",
    "value_counts(): This function counts the number of occurrences of each unique value in the \"Location\" column. It returns a Series where the index is the unique locations, and the values are the count of how many times each location appears in the column. This allows you to see which locations are the most common.\n",
    "head(5):\n",
    "\n",
    "head(5): After counting the occurrences of each location, this function selects the first 5 rows. Since the value_counts() function sorts the results by frequency (from highest to lowest), the first 5 will be the top 5 most frequent locations.\"\"\""
   ]
  },
  {
   "cell_type": "markdown",
   "id": "020906cd-a9d8-4c7c-a5cc-497eff06c59b",
   "metadata": {},
   "source": [
    "#### Fraud detection Analysis\n",
    "## Q.15 How many fraudulent transactions are there?\n"
   ]
  },
  {
   "cell_type": "code",
   "execution_count": 106,
   "id": "c72e3edc-ca2d-4577-bf65-b5e0c631f585",
   "metadata": {},
   "outputs": [
    {
     "data": {
      "text/plain": [
       "isFraud\n",
       "0    994935\n",
       "1      5065\n",
       "Name: count, dtype: int64"
      ]
     },
     "execution_count": 106,
     "metadata": {},
     "output_type": "execute_result"
    }
   ],
   "source": [
    "df[\"isFraud\"].value_counts() #total number of fraudulent transaction"
   ]
  },
  {
   "cell_type": "markdown",
   "id": "be6c41f8-421f-4dc6-8022-bbd11e20d6dc",
   "metadata": {},
   "source": [
    "#### total fraudulent transaction are 5065"
   ]
  },
  {
   "cell_type": "markdown",
   "id": "8ed41662-f13f-4ac9-bd2e-6ef46fd62acc",
   "metadata": {},
   "source": [
    "\"\"\"df[\"isFraud\"]:\n",
    "\n",
    "df[\"isFraud\"]: This accesses the \"isFraud\" column in your DataFrame df. The \"isFraud\" column likely contains information indicating whether a transaction is fraudulent or not, where the values might be something like 1 for fraudulent transactions and 0 for non-fraudulent transactions.\n",
    "value_counts():\n",
    "\n",
    "value_counts(): This function counts how many times each unique value appears in the \"isFraud\" column. It will return a Series where the index is the unique values in \"isFraud\" (likely 0 and 1), and the values represent the count of occurrences for each value. This will help you understand the distribution of fraud and non-fraudulent transactions in the dataset.\"\"\""
   ]
  },
  {
   "cell_type": "markdown",
   "id": "3468ac59-693a-483e-a867-7e10d311b192",
   "metadata": {},
   "source": [
    "#### Q.16 What is the total fraud amount?"
   ]
  },
  {
   "cell_type": "code",
   "execution_count": 111,
   "id": "03ab28b6-f7e6-4630-afab-1dbd7881c204",
   "metadata": {},
   "outputs": [
    {
     "data": {
      "text/plain": [
       "51577506.41"
      ]
     },
     "execution_count": 111,
     "metadata": {},
     "output_type": "execute_result"
    }
   ],
   "source": [
    "df[df[\"isFraud\"]==1][\"Amount\"].sum()"
   ]
  },
  {
   "cell_type": "markdown",
   "id": "6f875d32-e8c6-4518-a08e-c8d1bba487f7",
   "metadata": {},
   "source": [
    "#### top 10 fraud locations?"
   ]
  },
  {
   "cell_type": "code",
   "execution_count": 73,
   "id": "ac76eede-aa61-4002-b910-f5e927ceb58a",
   "metadata": {},
   "outputs": [
    {
     "data": {
      "text/plain": [
       "Location\n",
       "Seattle          531\n",
       "Miami            526\n",
       "Las Vegas        523\n",
       "Boston           520\n",
       "San Francisco    516\n",
       "Dallas           508\n",
       "Houston          507\n",
       "New York         493\n",
       "Los Angeles      482\n",
       "Chicago          459\n",
       "Name: count, dtype: int64"
      ]
     },
     "execution_count": 73,
     "metadata": {},
     "output_type": "execute_result"
    }
   ],
   "source": [
    "df[df[\"isFraud\"]==1][\"Location\"].value_counts().head(10)"
   ]
  },
  {
   "cell_type": "markdown",
   "id": "55845c79-e9f9-431b-948d-6b98318814dd",
   "metadata": {},
   "source": [
    "\"\"\"The code df[df[\"isFraud\"] == 1][\"Amount\"].sum() is used to calculate the total transaction amount for fraudulent transactions in the \"isFraud\" column of your DataFrame df. Let's break down each part of this code:\n",
    "\n",
    "Line-by-line explanation:\n",
    "df[df[\"isFraud\"] == 1]: Single equals (=): This is used for assignment. It assigns a value to a variable, like x = 5.\n",
    "\n",
    "Double equals (==): This is used for comparison. It checks if two values are equal. In this case, it's checking whether each value in the isFraud column is equal to 1.\n",
    "\n",
    "df[\"isFraud\"] == 1: This creates a boolean condition that checks whether the value in the \"isFraud\" column is 1 (which we assume represents fraudulent transactions).\n",
    "df[...]: This filters the DataFrame df to include only the rows where the condition df[\"isFraud\"] == 1 is True. In other words, it selects only the rows where the transaction is fraudulent.\"\"\""
   ]
  },
  {
   "cell_type": "markdown",
   "id": "68256950-6ee4-45dd-9596-ea77d4533908",
   "metadata": {},
   "source": [
    "#### Q.17 What is the fraud rate per transaction type?"
   ]
  },
  {
   "cell_type": "code",
   "execution_count": 76,
   "id": "e0c5c195-fe71-406a-9313-84a1b65927e2",
   "metadata": {},
   "outputs": [
    {
     "data": {
      "text/plain": [
       "TransactionType\n",
       "Credit        0.482485\n",
       "Debit         0.495892\n",
       "Deposit       0.514408\n",
       "Transfer      0.523952\n",
       "Withdrawal    0.515763\n",
       "Name: isFraud, dtype: float64"
      ]
     },
     "execution_count": 76,
     "metadata": {},
     "output_type": "execute_result"
    }
   ],
   "source": [
    "df.groupby(\"TransactionType\")[\"isFraud\"].mean() * 100\n",
    "           "
   ]
  },
  {
   "cell_type": "markdown",
   "id": "428df263-2be0-4b50-9d5a-64ae4401b1bc",
   "metadata": {},
   "source": [
    "#### Q.18 what is the fraud rate per location?"
   ]
  },
  {
   "cell_type": "code",
   "execution_count": 78,
   "id": "e164663f-cc9a-4127-bd03-d695794fe715",
   "metadata": {},
   "outputs": [
    {
     "data": {
      "text/plain": [
       "Location\n",
       "Boston           0.520646\n",
       "Chicago          0.458908\n",
       "Dallas           0.508295\n",
       "Houston          0.509292\n",
       "Las Vegas        0.524174\n",
       "Los Angeles      0.478421\n",
       "Miami            0.524249\n",
       "New York         0.493084\n",
       "San Francisco    0.514600\n",
       "Seattle          0.533674\n",
       "Name: isFraud, dtype: float64"
      ]
     },
     "execution_count": 78,
     "metadata": {},
     "output_type": "execute_result"
    }
   ],
   "source": [
    "df.groupby(\"Location\")[\"isFraud\"].mean() * 100"
   ]
  },
  {
   "cell_type": "markdown",
   "id": "a82e6f9f-3e36-4aa2-bab9-71cb189f5271",
   "metadata": {},
   "source": [
    "#### Q.15 Do Fraudulent transactions have higher amounts?\n"
   ]
  },
  {
   "cell_type": "code",
   "execution_count": 80,
   "id": "c9c3a8ef-2032-4807-861c-9f4b2b9f00d2",
   "metadata": {},
   "outputs": [
    {
     "data": {
      "text/plain": [
       "<Axes: xlabel='isFraud', ylabel='Amount'>"
      ]
     },
     "execution_count": 80,
     "metadata": {},
     "output_type": "execute_result"
    },
    {
     "data": {
      "image/png": "[encoded data removed]",
      "text/plain": [
       "<Figure size 640x480 with 1 Axes>"
      ]
     },
     "metadata": {},
     "output_type": "display_data"
    }
   ],
   "source": [
    "sns.boxplot(data = df,x=\"isFraud\",y=\"Amount\")"
   ]
  },
  {
   "cell_type": "markdown",
   "id": "6ad8a10c-c327-42ee-b9a2-46dff19e5786",
   "metadata": {},
   "source": [
    "#### Task: location wise amount of the data?"
   ]
  },
  {
   "cell_type": "code",
   "execution_count": 82,
   "id": "b70f3772-6289-4ebe-8298-24be65d4c829",
   "metadata": {},
   "outputs": [
    {
     "data": {
      "text/plain": [
       "<Axes: xlabel='Amount', ylabel='Location'>"
      ]
     },
     "execution_count": 82,
     "metadata": {},
     "output_type": "execute_result"
    },
    {
     "data": {
      "image/png": "[encoded data removed]",
      "text/plain": [
       "<Figure size 640x480 with 1 Axes>"
      ]
     },
     "metadata": {},
     "output_type": "display_data"
    }
   ],
   "source": [
    "sns.boxplot(data = df, x=\"Amount\",y=\"Location\")"
   ]
  },
  {
   "cell_type": "code",
   "execution_count": 83,
   "id": "25dcacf5-5d4c-436e-86fd-2765029f25be",
   "metadata": {},
   "outputs": [
    {
     "data": {
      "text/plain": [
       "<Axes: xlabel='Location', ylabel='Amount'>"
      ]
     },
     "execution_count": 83,
     "metadata": {},
     "output_type": "execute_result"
    },
    {
     "data": {
      "image/png": "[encoded data removed]",
      "text/plain": [
       "<Figure size 640x480 with 1 Axes>"
      ]
     },
     "metadata": {},
     "output_type": "display_data"
    }
   ],
   "source": [
    "sns.boxplot(data = df,x = \"Location\",y= \"Amount\")"
   ]
  },
  {
   "cell_type": "markdown",
   "id": "b9016226-ee8f-4ba2-a0f0-f8239d16d835",
   "metadata": {},
   "source": [
    "\"\"\"The code sns.boxplot(data=df, x=\"isFraud\", y=\"Amount\") creates a boxplot using Seaborn to visualize the distribution of transaction amounts for fraudulent and non-fraudulent transactions. Let's break it down:\n",
    "\n",
    "Line-by-line explanation:\n",
    "sns.boxplot(...):\n",
    "\n",
    "sns.boxplot(...): This is a function from the Seaborn library that creates a boxplot, which is a useful way to display the distribution of a numerical variable and identify outliers. A boxplot shows the median, quartiles, and possible outliers of the data, making it easy to compare distributions between categories.\n",
    "data=df:\n",
    "\n",
    "data=df: This specifies the DataFrame df that contains the data. The data argument tells Seaborn where to look for the data.\n",
    "x=\"isFraud\":\n",
    "\n",
    "x=\"isFraud\": This sets the variable on the x-axis to \"isFraud.\" The \"isFraud\" column typically contains binary values, such as 1 for fraudulent transactions and 0 for non-fraudulent transactions. The boxplot will create two categories on the x-axis: one for fraudulent transactions and one for non-fraudulent transactions.\n",
    "y=\"Amount\":\n",
    "\n",
    "y=\"Amount\": This sets the variable on the y-axis to \"Amount,\" which represents the transaction amount. This shows how the transaction amounts are distributed for each category of fraud (fraudulent and non-fraudulent).\"\"\""
   ]
  },
  {
   "cell_type": "markdown",
   "id": "3c4d93d5-edfb-4006-8727-0458f92c90a7",
   "metadata": {},
   "source": [
    " #### Q.16 What are the peak transaction hours?"
   ]
  },
  {
   "cell_type": "code",
   "execution_count": 86,
   "id": "3a89038a-4826-47e8-bacf-1377e65fd849",
   "metadata": {
    "scrolled": true
   },
   "outputs": [
    {
     "data": {
      "text/plain": [
       "<Axes: xlabel='Hour', ylabel='count'>"
      ]
     },
     "execution_count": 86,
     "metadata": {},
     "output_type": "execute_result"
    },
    {
     "data": {
      "image/png": "[encoded data removed]",
      "text/plain": [
       "<Figure size 640x480 with 1 Axes>"
      ]
     },
     "metadata": {},
     "output_type": "display_data"
    }
   ],
   "source": [
    "df[\"Hour\"] = df[\"TransactionDate\"].dt.hour\n",
    "sns.countplot( x=\"Hour\", data= df)"
   ]
  },
  {
   "cell_type": "markdown",
   "id": "4eff8b7d-14d8-41da-9869-8fef5e9e4092",
   "metadata": {},
   "source": [
    "#### The Peak time of transactions is 17 hrs has means 5 Pm. "
   ]
  },
  {
   "cell_type": "code",
   "execution_count": 88,
   "id": "2f2b2bea-6c98-4498-be65-7bf3f22bb230",
   "metadata": {
    "scrolled": true
   },
   "outputs": [
    {
     "data": {
      "text/plain": [
       "<Axes: xlabel='Year', ylabel='count'>"
      ]
     },
     "execution_count": 88,
     "metadata": {},
     "output_type": "execute_result"
    },
    {
     "data": {
      "image/png": "[encoded data removed]",
      "text/plain": [
       "<Figure size 640x480 with 1 Axes>"
      ]
     },
     "metadata": {},
     "output_type": "display_data"
    }
   ],
   "source": [
    "df[\"Year\"] = df[\"TransactionDate\"].dt.year\n",
    "sns.countplot( x=\"Year\", data= df)"
   ]
  },
  {
   "cell_type": "code",
   "execution_count": 89,
   "id": "0eea91be-181b-4ff0-8e21-09a9b03c0065",
   "metadata": {},
   "outputs": [
    {
     "name": "stdout",
     "output_type": "stream",
     "text": [
      "<class 'pandas.core.frame.DataFrame'>\n",
      "RangeIndex: 1000000 entries, 0 to 999999\n",
      "Data columns (total 9 columns):\n",
      " #   Column           Non-Null Count    Dtype         \n",
      "---  ------           --------------    -----         \n",
      " 0   TransactionID    1000000 non-null  int64         \n",
      " 1   CustomerID       1000000 non-null  int64         \n",
      " 2   TransactionDate  1000000 non-null  datetime64[ns]\n",
      " 3   TransactionType  1000000 non-null  object        \n",
      " 4   Amount           1000000 non-null  float64       \n",
      " 5   Location         1000000 non-null  object        \n",
      " 6   isFraud          1000000 non-null  int64         \n",
      " 7   Hour             1000000 non-null  int32         \n",
      " 8   Year             1000000 non-null  int32         \n",
      "dtypes: datetime64[ns](1), float64(1), int32(2), int64(3), object(2)\n",
      "memory usage: 61.0+ MB\n"
     ]
    }
   ],
   "source": [
    "df.info()"
   ]
  },
  {
   "cell_type": "markdown",
   "id": "a69d82e6-5574-41af-af58-e9f4d5accd3c",
   "metadata": {},
   "source": [
    "#### What is the fraud trend over time as per the Month?"
   ]
  },
  {
   "cell_type": "code",
   "execution_count": 91,
   "id": "36b905aa-5540-4e4e-b8bd-8aad65b711b1",
   "metadata": {},
   "outputs": [
    {
     "data": {
      "text/plain": [
       "<Axes: xlabel='TransactionDate'>"
      ]
     },
     "execution_count": 91,
     "metadata": {},
     "output_type": "execute_result"
    },
    {
     "data": {
      "image/png": "[encoded data removed]",
      "text/plain": [
       "<Figure size 640x480 with 1 Axes>"
      ]
     },
     "metadata": {},
     "output_type": "display_data"
    }
   ],
   "source": [
    "df.groupby(df[\"TransactionDate\"].dt.month)[\"isFraud\"].sum().plot()"
   ]
  },
  {
   "cell_type": "markdown",
   "id": "f54a0169-1c3f-41a3-83f3-f5fb72ae821f",
   "metadata": {},
   "source": [
    "#### Fraud spikes in september (9th Month)"
   ]
  },
  {
   "cell_type": "markdown",
   "id": "772ba18b-cad5-4610-8316-1908133f0248",
   "metadata": {},
   "source": [
    "\"\"\"1. df[\"TransactionDate\"].dt.month:\n",
    "df[\"TransactionDate\"]: This refers to the \"TransactionDate\" column in your DataFrame, which likely contains datetime values.\n",
    ".dt.month: This extracts the month from the \"TransactionDate\" column. It returns an integer representing the month of each transaction, ranging from 1 (January) to 12 (December).\n",
    "\n",
    "2. df.groupby(df[\"TransactionDate\"].dt.month):\n",
    "groupby(df[\"TransactionDate\"].dt.month): This groups the data by the month of the transaction. All transactions that happened in the same month will be grouped together. So, you’ll have 12 groups (one for each month), each representing the transactions for that specific month.\n",
    "\n",
    "3. [\"isFraud\"]:\n",
    "[\"isFraud\"]: After grouping the data by month, we focus on the \"isFraud\" column, which likely contains 1 for fraudulent transactions and 0 for non-fraudulent ones.\n",
    "\n",
    "4. .sum():\n",
    ".sum(): This sums the values of the \"isFraud\" column for each month. Since 1 represents fraudulent transactions, the sum gives the total number of fraudulent transactions for each month. For example, if a month has 3 fraudulent transactions, the sum for that month will be 3.\n",
    "\n",
    "5. .plot():\n",
    ".plot(): This generates a plot (typically a line plot) to visualize the data. In this case, it will create a line plot showing the total number of fraudulent transactions for each month. The x-axis represents the months (from 1 to 12), and the y-axis represents the number of fraudulent transactions for each month.\"\"\""
   ]
  },
  {
   "cell_type": "markdown",
   "id": "cf359799-117b-446d-9793-587266c9989c",
   "metadata": {},
   "source": [
    "#### Q.17 What is the distribution of transactions by day of the week?"
   ]
  },
  {
   "cell_type": "code",
   "execution_count": 95,
   "id": "f6b453da-8016-4e54-967e-31bfbb371bc0",
   "metadata": {
    "scrolled": true
   },
   "outputs": [
    {
     "data": {
      "image/png": "[encoded data removed]",
      "text/plain": [
       "<Figure size 640x480 with 1 Axes>"
      ]
     },
     "metadata": {},
     "output_type": "display_data"
    }
   ],
   "source": [
    "df[\"DayofWeek\"]=df[\"TransactionDate\"].dt.day_name()\n",
    "sns.countplot(data=df,x=\"DayofWeek\",order=[\"Sunday\",\"Monday\",\"Tuesday\",\"Wednesday\",\"Thursday\",\"Friday\",\"Saturday\"])\n",
    "plt.xticks(rotation=45)\n",
    "plt.title(\"Transaction by day of the week\")\n",
    "plt.show()"
   ]
  },
  {
   "cell_type": "markdown",
   "id": "15a71ef7-82b7-4d65-99bd-ec1403d23417",
   "metadata": {},
   "source": [
    "df[\"DayOfWeek\"] = df[\"TransactionDate\"].dt.day_name()\n",
    "\n",
    "#### 1. df[\"DayOfWeek\"] = df[\"TransactionDate\"].dt.day_name():\n",
    "df[\"TransactionDate\"]: This refers to the \"TransactionDate\" column in your DataFrame df, which contains the datetime values for each transaction.\n",
    ".dt.day_name(): The .dt accessor allows you to extract specific components from the datetime values. .day_name() extracts the name of the day of the week (e.g., \"Monday\", \"Tuesday\", etc.) from each timestamp.\n",
    "df[\"DayOfWeek\"] = ...: This stores the extracted day names in a new column called \"DayOfWeek\" in the DataFrame. Now, each transaction will have an associated \"DayOfWeek\" indicating the weekday on which it occurred.\"\"\"\n",
    "sns.countplot(data=df, x=\"DayOfWeek\", order=[\"Monday\", \"Tuesday\", \"Wednesday\", \"Thursday\", \"Friday\", \"Saturday\", \"Sunday\"])\n",
    "\n",
    "#### 2. sns.countplot(data=df, x=\"DayOfWeek\", order=[\"Monday\", \"Tuesday\", \"Wednesday\", \"Thursday\", \"Friday\", \"Saturday\", \"Sunday\"]):\n",
    "sns.countplot(...): This is a Seaborn function that creates a count plot (a type of bar plot) showing the frequency of each unique value in the \"DayOfWeek\" column.\n",
    "data=df: Specifies that we are using the df DataFrame for this plot.\n",
    "x=\"DayOfWeek\": Specifies that the x-axis of the plot will represent the \"DayOfWeek\" column, so the bars will correspond to the days of the week.\n",
    "order=[\"Monday\", \"Tuesday\", \"Wednesday\", \"Thursday\", \"Friday\", \"Saturday\", \"Sunday\"]: This ensures that the days of the week appear in the correct order, from Monday to Sunday, on the x-axis. Without specifying this order, the days might appear in an arbitrary order.\"\"\"\n",
    "plt.xticks(rotation=45)\n",
    "\n",
    "#### 3. plt.xticks(rotation=45):\n",
    "plt.xticks(rotation=45): This rotates the x-axis labels (the day names) by 45 degrees for better readability. If the labels are too long and overlap, rotating them helps to make the plot clearer.\"\"\"\n",
    "plt.title(\"Transactions by Day of the Week\")\n",
    "\n",
    "#### 4. plt.title(\"Transactions by Day of the Week\"):\n",
    "plt.title(\"Transactions by Day of the Week\"): This sets the title of the plot to \"Transactions by Day of the Week,\" giving context to what the plot represents.\"\"\"\n",
    "plt.show()\n",
    "\n",
    "#### 5. plt.show():\n",
    "plt.show(): This displays the plot. Without this line, the plot might not appear depending on the environment you're working in.\"\"\""
   ]
  },
  {
   "cell_type": "code",
   "execution_count": 113,
   "id": "8c0e33b6-5b1a-45e7-9ee3-a47f91356eee",
   "metadata": {},
   "outputs": [
    {
     "data": {
      "image/png": "[encoded data removed]",
      "text/plain": [
       "<Figure size 640x480 with 1 Axes>"
      ]
     },
     "metadata": {},
     "output_type": "display_data"
    }
   ],
   "source": [
    "df[\"DayofWeek\"]=df[\"TransactionDate\"].dt.day_name()\n",
    "sns.countplot(data=df,x=\"DayofWeek\")\n",
    "plt.xticks(rotation=45)\n",
    "plt.title(\"Transaction by day of the week\")\n",
    "plt.show()"
   ]
  },
  {
   "cell_type": "code",
   "execution_count": 115,
   "id": "61155101-195d-43db-8d9d-045cddb58182",
   "metadata": {},
   "outputs": [
    {
     "data": {
      "image/png": "[encoded data removed]",
      "text/plain": [
       "<Figure size 640x480 with 1 Axes>"
      ]
     },
     "metadata": {},
     "output_type": "display_data"
    }
   ],
   "source": [
    "df[\"DayofWeek\"]=df[\"TransactionDate\"].dt.day_name()\n",
    "sns.countplot(data=df,x=\"DayofWeek\",order=[\"Sunday\",\"Monday\",\"Tuesday\",\"Wednesday\",\"Thursday\",\"Friday\",\"Saturday\"])\n",
    "plt.xticks(rotation=45)\n",
    "plt.yticks(rotation=45)\n",
    "plt.title(\"Transaction by day of the week\")\n",
    "plt.show()"
   ]
  },
  {
   "cell_type": "markdown",
   "id": "b22ac4e3-cffa-46aa-8fa0-34394bae9cf5",
   "metadata": {},
   "source": [
    "#### Q.19 what is the average transaction amount by day of the week?"
   ]
  },
  {
   "cell_type": "code",
   "execution_count": 120,
   "id": "e8d60ebe-c09d-41e4-8f29-e9319f0af198",
   "metadata": {},
   "outputs": [
    {
     "data": {
      "text/plain": [
       "DayofWeek\n",
       "Tuesday      10009.254183\n",
       "Wednesday    10006.736955\n",
       "Sunday       10006.171637\n",
       "Thursday      9993.955690\n",
       "Monday        9992.994624\n",
       "Friday        9991.231210\n",
       "Saturday      9983.204762\n",
       "Name: Amount, dtype: float64"
      ]
     },
     "execution_count": 120,
     "metadata": {},
     "output_type": "execute_result"
    }
   ],
   "source": [
    "df.groupby(\"DayofWeek\")[\"Amount\"].mean().sort_values(ascending=False) #the column which are extracting from will be in a[\"Amount\"] what we are extracting will round bracket(\"DayofWeek)"
   ]
  },
  {
   "cell_type": "markdown",
   "id": "e63e9a93-200d-4b85-861d-106f0c4dce6d",
   "metadata": {},
   "source": [
    "## Answer:\n",
    " Tuesday transactions have the highest average amount(10009.25),Saturday has the lowest average(9983.23)\n",
    " ## Why this is important\n",
    " Help banks plan server loads and detect unusual spending."
   ]
  },
  {
   "cell_type": "markdown",
   "id": "4e9e2e73-c8df-4460-a026-97de010e8f5f",
   "metadata": {},
   "source": [
    "#### 1. df.groupby(\"DayOfWeek\"):\n",
    "groupby(\"DayOfWeek\"): This groups the data in your DataFrame df by the \"DayOfWeek\" column. The \"DayOfWeek\" column should contain the names of the days of the week (e.g., \"Monday\", \"Tuesday\", etc.). This operation creates a separate group for each unique day of the week.\n",
    "\n",
    "#### 2. [\"Amount\"]:\n",
    "[\"Amount\"]: After grouping the data by \"DayOfWeek,\" we select the \"Amount\" column, which represents the transaction amounts. This allows us to perform operations specifically on the transaction amounts for each day.\n",
    "\n",
    "#### 3. .mean():\n",
    ".mean(): This calculates the average (mean) of the \"Amount\" values within each group (i.e., for each day of the week). For example, it will calculate the average transaction amount for all the transactions that occurred on Monday, the average amount for all the transactions on Tuesday, and so on.\n",
    "\n",
    "#### 4. .sort_values(ascending=False):\n",
    ".sort_values(ascending=False): This sorts the resulting means (average transaction amounts) in descending order. So, the days with the highest average transaction amounts will appear at the top of the output, and the days with the lowest average transaction amounts will appear at the bottom.\"\"\""
   ]
  },
  {
   "cell_type": "code",
   "execution_count": 125,
   "id": "7dae8fc3-bc08-4e2c-9723-e4566a8709ea",
   "metadata": {},
   "outputs": [
    {
     "name": "stdout",
     "output_type": "stream",
     "text": [
      "<class 'pandas.core.frame.DataFrame'>\n",
      "RangeIndex: 1000000 entries, 0 to 999999\n",
      "Data columns (total 10 columns):\n",
      " #   Column           Non-Null Count    Dtype         \n",
      "---  ------           --------------    -----         \n",
      " 0   TransactionID    1000000 non-null  int64         \n",
      " 1   CustomerID       1000000 non-null  int64         \n",
      " 2   TransactionDate  1000000 non-null  datetime64[ns]\n",
      " 3   TransactionType  1000000 non-null  object        \n",
      " 4   Amount           1000000 non-null  float64       \n",
      " 5   Location         1000000 non-null  object        \n",
      " 6   isFraud          1000000 non-null  int64         \n",
      " 7   Hour             1000000 non-null  int32         \n",
      " 8   Year             1000000 non-null  int32         \n",
      " 9   DayofWeek        1000000 non-null  object        \n",
      "dtypes: datetime64[ns](1), float64(1), int32(2), int64(3), object(3)\n",
      "memory usage: 68.7+ MB\n"
     ]
    }
   ],
   "source": [
    "df.info()"
   ]
  },
  {
   "cell_type": "code",
   "execution_count": 131,
   "id": "42e565e4-2ffe-4bc0-8acb-4d695a0e1123",
   "metadata": {},
   "outputs": [
    {
     "data": {
      "text/html": [
       "<div>\n",
       "<style scoped>\n",
       "    .dataframe tbody tr th:only-of-type {\n",
       "        vertical-align: middle;\n",
       "    }\n",
       "\n",
       "    .dataframe tbody tr th {\n",
       "        vertical-align: top;\n",
       "    }\n",
       "\n",
       "    .dataframe thead th {\n",
       "        text-align: right;\n",
       "    }\n",
       "</style>\n",
       "<table border=\"1\" class=\"dataframe\">\n",
       "  <thead>\n",
       "    <tr style=\"text-align: right;\">\n",
       "      <th></th>\n",
       "      <th>TransactionID</th>\n",
       "      <th>CustomerID</th>\n",
       "      <th>TransactionDate</th>\n",
       "      <th>TransactionType</th>\n",
       "      <th>Amount</th>\n",
       "      <th>Location</th>\n",
       "      <th>isFraud</th>\n",
       "      <th>Hour</th>\n",
       "      <th>Year</th>\n",
       "      <th>DayofWeek</th>\n",
       "    </tr>\n",
       "  </thead>\n",
       "  <tbody>\n",
       "    <tr>\n",
       "      <th>0</th>\n",
       "      <td>1</td>\n",
       "      <td>4174</td>\n",
       "      <td>2023-07-29 08:48:28</td>\n",
       "      <td>Withdrawal</td>\n",
       "      <td>19614.53</td>\n",
       "      <td>Boston</td>\n",
       "      <td>0</td>\n",
       "      <td>8</td>\n",
       "      <td>2023</td>\n",
       "      <td>Saturday</td>\n",
       "    </tr>\n",
       "    <tr>\n",
       "      <th>1</th>\n",
       "      <td>2</td>\n",
       "      <td>4507</td>\n",
       "      <td>2023-11-07 20:56:56</td>\n",
       "      <td>Deposit</td>\n",
       "      <td>8161.18</td>\n",
       "      <td>Los Angeles</td>\n",
       "      <td>0</td>\n",
       "      <td>20</td>\n",
       "      <td>2023</td>\n",
       "      <td>Tuesday</td>\n",
       "    </tr>\n",
       "    <tr>\n",
       "      <th>2</th>\n",
       "      <td>3</td>\n",
       "      <td>1860</td>\n",
       "      <td>2023-12-20 17:38:37</td>\n",
       "      <td>Debit</td>\n",
       "      <td>18338.93</td>\n",
       "      <td>Miami</td>\n",
       "      <td>0</td>\n",
       "      <td>17</td>\n",
       "      <td>2023</td>\n",
       "      <td>Wednesday</td>\n",
       "    </tr>\n",
       "    <tr>\n",
       "      <th>3</th>\n",
       "      <td>4</td>\n",
       "      <td>2294</td>\n",
       "      <td>2023-06-11 09:46:58</td>\n",
       "      <td>Credit</td>\n",
       "      <td>40.20</td>\n",
       "      <td>Dallas</td>\n",
       "      <td>0</td>\n",
       "      <td>9</td>\n",
       "      <td>2023</td>\n",
       "      <td>Sunday</td>\n",
       "    </tr>\n",
       "    <tr>\n",
       "      <th>4</th>\n",
       "      <td>5</td>\n",
       "      <td>2130</td>\n",
       "      <td>2023-03-02 16:50:38</td>\n",
       "      <td>Withdrawal</td>\n",
       "      <td>19239.09</td>\n",
       "      <td>Los Angeles</td>\n",
       "      <td>0</td>\n",
       "      <td>16</td>\n",
       "      <td>2023</td>\n",
       "      <td>Thursday</td>\n",
       "    </tr>\n",
       "    <tr>\n",
       "      <th>5</th>\n",
       "      <td>6</td>\n",
       "      <td>2095</td>\n",
       "      <td>2024-08-03 17:22:20</td>\n",
       "      <td>Credit</td>\n",
       "      <td>1699.69</td>\n",
       "      <td>Houston</td>\n",
       "      <td>0</td>\n",
       "      <td>17</td>\n",
       "      <td>2024</td>\n",
       "      <td>Saturday</td>\n",
       "    </tr>\n",
       "    <tr>\n",
       "      <th>6</th>\n",
       "      <td>7</td>\n",
       "      <td>4772</td>\n",
       "      <td>2024-08-14 07:36:13</td>\n",
       "      <td>Transfer</td>\n",
       "      <td>17099.50</td>\n",
       "      <td>Dallas</td>\n",
       "      <td>0</td>\n",
       "      <td>7</td>\n",
       "      <td>2024</td>\n",
       "      <td>Wednesday</td>\n",
       "    </tr>\n",
       "    <tr>\n",
       "      <th>7</th>\n",
       "      <td>8</td>\n",
       "      <td>4092</td>\n",
       "      <td>2024-05-02 18:53:24</td>\n",
       "      <td>Withdrawal</td>\n",
       "      <td>16026.97</td>\n",
       "      <td>Dallas</td>\n",
       "      <td>0</td>\n",
       "      <td>18</td>\n",
       "      <td>2024</td>\n",
       "      <td>Thursday</td>\n",
       "    </tr>\n",
       "    <tr>\n",
       "      <th>8</th>\n",
       "      <td>9</td>\n",
       "      <td>2638</td>\n",
       "      <td>2024-01-07 02:41:20</td>\n",
       "      <td>Debit</td>\n",
       "      <td>2688.48</td>\n",
       "      <td>Houston</td>\n",
       "      <td>0</td>\n",
       "      <td>2</td>\n",
       "      <td>2024</td>\n",
       "      <td>Sunday</td>\n",
       "    </tr>\n",
       "    <tr>\n",
       "      <th>9</th>\n",
       "      <td>10</td>\n",
       "      <td>3169</td>\n",
       "      <td>2024-12-25 04:16:29</td>\n",
       "      <td>Debit</td>\n",
       "      <td>19087.43</td>\n",
       "      <td>Miami</td>\n",
       "      <td>0</td>\n",
       "      <td>4</td>\n",
       "      <td>2024</td>\n",
       "      <td>Wednesday</td>\n",
       "    </tr>\n",
       "    <tr>\n",
       "      <th>10</th>\n",
       "      <td>11</td>\n",
       "      <td>1466</td>\n",
       "      <td>2024-12-10 13:48:24</td>\n",
       "      <td>Deposit</td>\n",
       "      <td>19684.84</td>\n",
       "      <td>Boston</td>\n",
       "      <td>0</td>\n",
       "      <td>13</td>\n",
       "      <td>2024</td>\n",
       "      <td>Tuesday</td>\n",
       "    </tr>\n",
       "    <tr>\n",
       "      <th>11</th>\n",
       "      <td>12</td>\n",
       "      <td>2238</td>\n",
       "      <td>2023-08-06 19:21:53</td>\n",
       "      <td>Deposit</td>\n",
       "      <td>18945.66</td>\n",
       "      <td>Boston</td>\n",
       "      <td>0</td>\n",
       "      <td>19</td>\n",
       "      <td>2023</td>\n",
       "      <td>Sunday</td>\n",
       "    </tr>\n",
       "    <tr>\n",
       "      <th>12</th>\n",
       "      <td>13</td>\n",
       "      <td>1330</td>\n",
       "      <td>2023-07-01 20:01:23</td>\n",
       "      <td>Withdrawal</td>\n",
       "      <td>15950.52</td>\n",
       "      <td>Houston</td>\n",
       "      <td>0</td>\n",
       "      <td>20</td>\n",
       "      <td>2023</td>\n",
       "      <td>Saturday</td>\n",
       "    </tr>\n",
       "    <tr>\n",
       "      <th>13</th>\n",
       "      <td>14</td>\n",
       "      <td>2482</td>\n",
       "      <td>2023-12-17 18:34:23</td>\n",
       "      <td>Credit</td>\n",
       "      <td>1354.24</td>\n",
       "      <td>Las Vegas</td>\n",
       "      <td>0</td>\n",
       "      <td>18</td>\n",
       "      <td>2023</td>\n",
       "      <td>Sunday</td>\n",
       "    </tr>\n",
       "    <tr>\n",
       "      <th>14</th>\n",
       "      <td>15</td>\n",
       "      <td>3135</td>\n",
       "      <td>2023-02-23 20:34:41</td>\n",
       "      <td>Credit</td>\n",
       "      <td>19179.63</td>\n",
       "      <td>Dallas</td>\n",
       "      <td>0</td>\n",
       "      <td>20</td>\n",
       "      <td>2023</td>\n",
       "      <td>Thursday</td>\n",
       "    </tr>\n",
       "    <tr>\n",
       "      <th>15</th>\n",
       "      <td>16</td>\n",
       "      <td>4444</td>\n",
       "      <td>2024-08-14 19:16:39</td>\n",
       "      <td>Withdrawal</td>\n",
       "      <td>13054.70</td>\n",
       "      <td>San Francisco</td>\n",
       "      <td>0</td>\n",
       "      <td>19</td>\n",
       "      <td>2024</td>\n",
       "      <td>Wednesday</td>\n",
       "    </tr>\n",
       "    <tr>\n",
       "      <th>16</th>\n",
       "      <td>17</td>\n",
       "      <td>4171</td>\n",
       "      <td>2023-04-26 05:42:08</td>\n",
       "      <td>Deposit</td>\n",
       "      <td>958.34</td>\n",
       "      <td>Miami</td>\n",
       "      <td>0</td>\n",
       "      <td>5</td>\n",
       "      <td>2023</td>\n",
       "      <td>Wednesday</td>\n",
       "    </tr>\n",
       "    <tr>\n",
       "      <th>17</th>\n",
       "      <td>18</td>\n",
       "      <td>3919</td>\n",
       "      <td>2025-01-01 06:58:19</td>\n",
       "      <td>Debit</td>\n",
       "      <td>14504.17</td>\n",
       "      <td>Dallas</td>\n",
       "      <td>0</td>\n",
       "      <td>6</td>\n",
       "      <td>2025</td>\n",
       "      <td>Wednesday</td>\n",
       "    </tr>\n",
       "    <tr>\n",
       "      <th>18</th>\n",
       "      <td>19</td>\n",
       "      <td>4735</td>\n",
       "      <td>2024-11-23 06:43:56</td>\n",
       "      <td>Deposit</td>\n",
       "      <td>7059.55</td>\n",
       "      <td>Los Angeles</td>\n",
       "      <td>0</td>\n",
       "      <td>6</td>\n",
       "      <td>2024</td>\n",
       "      <td>Saturday</td>\n",
       "    </tr>\n",
       "    <tr>\n",
       "      <th>19</th>\n",
       "      <td>20</td>\n",
       "      <td>1130</td>\n",
       "      <td>2023-06-06 15:24:12</td>\n",
       "      <td>Debit</td>\n",
       "      <td>13851.15</td>\n",
       "      <td>New York</td>\n",
       "      <td>0</td>\n",
       "      <td>15</td>\n",
       "      <td>2023</td>\n",
       "      <td>Tuesday</td>\n",
       "    </tr>\n",
       "    <tr>\n",
       "      <th>20</th>\n",
       "      <td>21</td>\n",
       "      <td>2685</td>\n",
       "      <td>2024-07-16 22:54:32</td>\n",
       "      <td>Credit</td>\n",
       "      <td>13376.01</td>\n",
       "      <td>San Francisco</td>\n",
       "      <td>0</td>\n",
       "      <td>22</td>\n",
       "      <td>2024</td>\n",
       "      <td>Tuesday</td>\n",
       "    </tr>\n",
       "    <tr>\n",
       "      <th>21</th>\n",
       "      <td>22</td>\n",
       "      <td>4380</td>\n",
       "      <td>2023-12-28 01:05:55</td>\n",
       "      <td>Debit</td>\n",
       "      <td>15067.08</td>\n",
       "      <td>Los Angeles</td>\n",
       "      <td>0</td>\n",
       "      <td>1</td>\n",
       "      <td>2023</td>\n",
       "      <td>Thursday</td>\n",
       "    </tr>\n",
       "    <tr>\n",
       "      <th>22</th>\n",
       "      <td>23</td>\n",
       "      <td>1769</td>\n",
       "      <td>2023-04-02 03:01:18</td>\n",
       "      <td>Credit</td>\n",
       "      <td>6520.09</td>\n",
       "      <td>Los Angeles</td>\n",
       "      <td>0</td>\n",
       "      <td>3</td>\n",
       "      <td>2023</td>\n",
       "      <td>Sunday</td>\n",
       "    </tr>\n",
       "    <tr>\n",
       "      <th>23</th>\n",
       "      <td>24</td>\n",
       "      <td>3391</td>\n",
       "      <td>2023-12-25 05:33:08</td>\n",
       "      <td>Debit</td>\n",
       "      <td>15683.66</td>\n",
       "      <td>Dallas</td>\n",
       "      <td>0</td>\n",
       "      <td>5</td>\n",
       "      <td>2023</td>\n",
       "      <td>Monday</td>\n",
       "    </tr>\n",
       "    <tr>\n",
       "      <th>24</th>\n",
       "      <td>25</td>\n",
       "      <td>2515</td>\n",
       "      <td>2024-12-11 14:28:01</td>\n",
       "      <td>Withdrawal</td>\n",
       "      <td>9729.08</td>\n",
       "      <td>Boston</td>\n",
       "      <td>0</td>\n",
       "      <td>14</td>\n",
       "      <td>2024</td>\n",
       "      <td>Wednesday</td>\n",
       "    </tr>\n",
       "    <tr>\n",
       "      <th>25</th>\n",
       "      <td>26</td>\n",
       "      <td>4485</td>\n",
       "      <td>2023-03-03 10:29:34</td>\n",
       "      <td>Credit</td>\n",
       "      <td>918.45</td>\n",
       "      <td>Seattle</td>\n",
       "      <td>0</td>\n",
       "      <td>10</td>\n",
       "      <td>2023</td>\n",
       "      <td>Friday</td>\n",
       "    </tr>\n",
       "    <tr>\n",
       "      <th>26</th>\n",
       "      <td>27</td>\n",
       "      <td>3853</td>\n",
       "      <td>2024-08-23 13:38:09</td>\n",
       "      <td>Withdrawal</td>\n",
       "      <td>19336.90</td>\n",
       "      <td>Los Angeles</td>\n",
       "      <td>0</td>\n",
       "      <td>13</td>\n",
       "      <td>2024</td>\n",
       "      <td>Friday</td>\n",
       "    </tr>\n",
       "    <tr>\n",
       "      <th>27</th>\n",
       "      <td>28</td>\n",
       "      <td>3433</td>\n",
       "      <td>2023-06-26 02:58:56</td>\n",
       "      <td>Deposit</td>\n",
       "      <td>5612.22</td>\n",
       "      <td>San Francisco</td>\n",
       "      <td>0</td>\n",
       "      <td>2</td>\n",
       "      <td>2023</td>\n",
       "      <td>Monday</td>\n",
       "    </tr>\n",
       "    <tr>\n",
       "      <th>28</th>\n",
       "      <td>29</td>\n",
       "      <td>2215</td>\n",
       "      <td>2025-01-26 04:56:29</td>\n",
       "      <td>Debit</td>\n",
       "      <td>14096.11</td>\n",
       "      <td>Seattle</td>\n",
       "      <td>0</td>\n",
       "      <td>4</td>\n",
       "      <td>2025</td>\n",
       "      <td>Sunday</td>\n",
       "    </tr>\n",
       "    <tr>\n",
       "      <th>29</th>\n",
       "      <td>30</td>\n",
       "      <td>1955</td>\n",
       "      <td>2023-03-21 16:36:43</td>\n",
       "      <td>Credit</td>\n",
       "      <td>7813.07</td>\n",
       "      <td>New York</td>\n",
       "      <td>0</td>\n",
       "      <td>16</td>\n",
       "      <td>2023</td>\n",
       "      <td>Tuesday</td>\n",
       "    </tr>\n",
       "    <tr>\n",
       "      <th>30</th>\n",
       "      <td>31</td>\n",
       "      <td>3324</td>\n",
       "      <td>2024-03-27 11:04:26</td>\n",
       "      <td>Debit</td>\n",
       "      <td>70.63</td>\n",
       "      <td>Las Vegas</td>\n",
       "      <td>0</td>\n",
       "      <td>11</td>\n",
       "      <td>2024</td>\n",
       "      <td>Wednesday</td>\n",
       "    </tr>\n",
       "    <tr>\n",
       "      <th>31</th>\n",
       "      <td>32</td>\n",
       "      <td>2184</td>\n",
       "      <td>2024-04-15 08:04:34</td>\n",
       "      <td>Debit</td>\n",
       "      <td>3222.39</td>\n",
       "      <td>San Francisco</td>\n",
       "      <td>0</td>\n",
       "      <td>8</td>\n",
       "      <td>2024</td>\n",
       "      <td>Monday</td>\n",
       "    </tr>\n",
       "    <tr>\n",
       "      <th>32</th>\n",
       "      <td>33</td>\n",
       "      <td>1459</td>\n",
       "      <td>2024-03-26 21:02:30</td>\n",
       "      <td>Transfer</td>\n",
       "      <td>13618.87</td>\n",
       "      <td>Seattle</td>\n",
       "      <td>0</td>\n",
       "      <td>21</td>\n",
       "      <td>2024</td>\n",
       "      <td>Tuesday</td>\n",
       "    </tr>\n",
       "    <tr>\n",
       "      <th>33</th>\n",
       "      <td>34</td>\n",
       "      <td>4385</td>\n",
       "      <td>2023-12-17 03:03:25</td>\n",
       "      <td>Debit</td>\n",
       "      <td>12897.41</td>\n",
       "      <td>Seattle</td>\n",
       "      <td>0</td>\n",
       "      <td>3</td>\n",
       "      <td>2023</td>\n",
       "      <td>Sunday</td>\n",
       "    </tr>\n",
       "    <tr>\n",
       "      <th>34</th>\n",
       "      <td>35</td>\n",
       "      <td>1021</td>\n",
       "      <td>2023-06-06 10:51:15</td>\n",
       "      <td>Debit</td>\n",
       "      <td>15203.56</td>\n",
       "      <td>Chicago</td>\n",
       "      <td>0</td>\n",
       "      <td>10</td>\n",
       "      <td>2023</td>\n",
       "      <td>Tuesday</td>\n",
       "    </tr>\n",
       "    <tr>\n",
       "      <th>35</th>\n",
       "      <td>36</td>\n",
       "      <td>3300</td>\n",
       "      <td>2024-08-23 13:27:46</td>\n",
       "      <td>Transfer</td>\n",
       "      <td>17143.27</td>\n",
       "      <td>Houston</td>\n",
       "      <td>0</td>\n",
       "      <td>13</td>\n",
       "      <td>2024</td>\n",
       "      <td>Friday</td>\n",
       "    </tr>\n",
       "    <tr>\n",
       "      <th>36</th>\n",
       "      <td>37</td>\n",
       "      <td>1747</td>\n",
       "      <td>2025-01-13 07:39:20</td>\n",
       "      <td>Withdrawal</td>\n",
       "      <td>7617.91</td>\n",
       "      <td>Los Angeles</td>\n",
       "      <td>0</td>\n",
       "      <td>7</td>\n",
       "      <td>2025</td>\n",
       "      <td>Monday</td>\n",
       "    </tr>\n",
       "    <tr>\n",
       "      <th>37</th>\n",
       "      <td>38</td>\n",
       "      <td>3904</td>\n",
       "      <td>2024-05-27 02:08:30</td>\n",
       "      <td>Deposit</td>\n",
       "      <td>13336.72</td>\n",
       "      <td>New York</td>\n",
       "      <td>0</td>\n",
       "      <td>2</td>\n",
       "      <td>2024</td>\n",
       "      <td>Monday</td>\n",
       "    </tr>\n",
       "    <tr>\n",
       "      <th>38</th>\n",
       "      <td>39</td>\n",
       "      <td>4632</td>\n",
       "      <td>2023-02-13 15:43:35</td>\n",
       "      <td>Withdrawal</td>\n",
       "      <td>9965.84</td>\n",
       "      <td>Seattle</td>\n",
       "      <td>0</td>\n",
       "      <td>15</td>\n",
       "      <td>2023</td>\n",
       "      <td>Monday</td>\n",
       "    </tr>\n",
       "    <tr>\n",
       "      <th>39</th>\n",
       "      <td>40</td>\n",
       "      <td>1474</td>\n",
       "      <td>2025-01-16 01:56:41</td>\n",
       "      <td>Debit</td>\n",
       "      <td>624.72</td>\n",
       "      <td>Miami</td>\n",
       "      <td>0</td>\n",
       "      <td>1</td>\n",
       "      <td>2025</td>\n",
       "      <td>Thursday</td>\n",
       "    </tr>\n",
       "    <tr>\n",
       "      <th>40</th>\n",
       "      <td>41</td>\n",
       "      <td>2082</td>\n",
       "      <td>2024-04-15 09:29:14</td>\n",
       "      <td>Deposit</td>\n",
       "      <td>14385.22</td>\n",
       "      <td>Chicago</td>\n",
       "      <td>0</td>\n",
       "      <td>9</td>\n",
       "      <td>2024</td>\n",
       "      <td>Monday</td>\n",
       "    </tr>\n",
       "    <tr>\n",
       "      <th>41</th>\n",
       "      <td>42</td>\n",
       "      <td>3558</td>\n",
       "      <td>2023-05-10 22:46:38</td>\n",
       "      <td>Transfer</td>\n",
       "      <td>8709.76</td>\n",
       "      <td>Los Angeles</td>\n",
       "      <td>0</td>\n",
       "      <td>22</td>\n",
       "      <td>2023</td>\n",
       "      <td>Wednesday</td>\n",
       "    </tr>\n",
       "    <tr>\n",
       "      <th>42</th>\n",
       "      <td>43</td>\n",
       "      <td>4753</td>\n",
       "      <td>2024-01-08 08:30:37</td>\n",
       "      <td>Credit</td>\n",
       "      <td>7619.46</td>\n",
       "      <td>Seattle</td>\n",
       "      <td>0</td>\n",
       "      <td>8</td>\n",
       "      <td>2024</td>\n",
       "      <td>Monday</td>\n",
       "    </tr>\n",
       "    <tr>\n",
       "      <th>43</th>\n",
       "      <td>44</td>\n",
       "      <td>3047</td>\n",
       "      <td>2023-08-24 10:06:12</td>\n",
       "      <td>Credit</td>\n",
       "      <td>2651.08</td>\n",
       "      <td>Seattle</td>\n",
       "      <td>0</td>\n",
       "      <td>10</td>\n",
       "      <td>2023</td>\n",
       "      <td>Thursday</td>\n",
       "    </tr>\n",
       "    <tr>\n",
       "      <th>44</th>\n",
       "      <td>45</td>\n",
       "      <td>4547</td>\n",
       "      <td>2024-05-13 00:10:55</td>\n",
       "      <td>Credit</td>\n",
       "      <td>13076.74</td>\n",
       "      <td>Seattle</td>\n",
       "      <td>0</td>\n",
       "      <td>0</td>\n",
       "      <td>2024</td>\n",
       "      <td>Monday</td>\n",
       "    </tr>\n",
       "    <tr>\n",
       "      <th>45</th>\n",
       "      <td>46</td>\n",
       "      <td>3747</td>\n",
       "      <td>2023-03-20 03:16:20</td>\n",
       "      <td>Deposit</td>\n",
       "      <td>18290.35</td>\n",
       "      <td>Houston</td>\n",
       "      <td>0</td>\n",
       "      <td>3</td>\n",
       "      <td>2023</td>\n",
       "      <td>Monday</td>\n",
       "    </tr>\n",
       "    <tr>\n",
       "      <th>46</th>\n",
       "      <td>47</td>\n",
       "      <td>1975</td>\n",
       "      <td>2024-11-02 12:36:55</td>\n",
       "      <td>Debit</td>\n",
       "      <td>9398.78</td>\n",
       "      <td>Las Vegas</td>\n",
       "      <td>0</td>\n",
       "      <td>12</td>\n",
       "      <td>2024</td>\n",
       "      <td>Saturday</td>\n",
       "    </tr>\n",
       "    <tr>\n",
       "      <th>47</th>\n",
       "      <td>48</td>\n",
       "      <td>2806</td>\n",
       "      <td>2023-12-21 16:08:18</td>\n",
       "      <td>Transfer</td>\n",
       "      <td>11563.72</td>\n",
       "      <td>San Francisco</td>\n",
       "      <td>0</td>\n",
       "      <td>16</td>\n",
       "      <td>2023</td>\n",
       "      <td>Thursday</td>\n",
       "    </tr>\n",
       "    <tr>\n",
       "      <th>48</th>\n",
       "      <td>49</td>\n",
       "      <td>1189</td>\n",
       "      <td>2023-08-23 12:28:44</td>\n",
       "      <td>Withdrawal</td>\n",
       "      <td>14245.06</td>\n",
       "      <td>San Francisco</td>\n",
       "      <td>0</td>\n",
       "      <td>12</td>\n",
       "      <td>2023</td>\n",
       "      <td>Wednesday</td>\n",
       "    </tr>\n",
       "    <tr>\n",
       "      <th>49</th>\n",
       "      <td>50</td>\n",
       "      <td>4005</td>\n",
       "      <td>2024-08-17 18:36:36</td>\n",
       "      <td>Debit</td>\n",
       "      <td>8340.98</td>\n",
       "      <td>Boston</td>\n",
       "      <td>0</td>\n",
       "      <td>18</td>\n",
       "      <td>2024</td>\n",
       "      <td>Saturday</td>\n",
       "    </tr>\n",
       "  </tbody>\n",
       "</table>\n",
       "</div>"
      ],
      "text/plain": [
       "    TransactionID  CustomerID     TransactionDate TransactionType    Amount  \\\n",
       "0               1        4174 2023-07-29 08:48:28      Withdrawal  19614.53   \n",
       "1               2        4507 2023-11-07 20:56:56         Deposit   8161.18   \n",
       "2               3        1860 2023-12-20 17:38:37           Debit  18338.93   \n",
       "3               4        2294 2023-06-11 09:46:58          Credit     40.20   \n",
       "4               5        2130 2023-03-02 16:50:38      Withdrawal  19239.09   \n",
       "5               6        2095 2024-08-03 17:22:20          Credit   1699.69   \n",
       "6               7        4772 2024-08-14 07:36:13        Transfer  17099.50   \n",
       "7               8        4092 2024-05-02 18:53:24      Withdrawal  16026.97   \n",
       "8               9        2638 2024-01-07 02:41:20           Debit   2688.48   \n",
       "9              10        3169 2024-12-25 04:16:29           Debit  19087.43   \n",
       "10             11        1466 2024-12-10 13:48:24         Deposit  19684.84   \n",
       "11             12        2238 2023-08-06 19:21:53         Deposit  18945.66   \n",
       "12             13        1330 2023-07-01 20:01:23      Withdrawal  15950.52   \n",
       "13             14        2482 2023-12-17 18:34:23          Credit   1354.24   \n",
       "14             15        3135 2023-02-23 20:34:41          Credit  19179.63   \n",
       "15             16        4444 2024-08-14 19:16:39      Withdrawal  13054.70   \n",
       "16             17        4171 2023-04-26 05:42:08         Deposit    958.34   \n",
       "17             18        3919 2025-01-01 06:58:19           Debit  14504.17   \n",
       "18             19        4735 2024-11-23 06:43:56         Deposit   7059.55   \n",
       "19             20        1130 2023-06-06 15:24:12           Debit  13851.15   \n",
       "20             21        2685 2024-07-16 22:54:32          Credit  13376.01   \n",
       "21             22        4380 2023-12-28 01:05:55           Debit  15067.08   \n",
       "22             23        1769 2023-04-02 03:01:18          Credit   6520.09   \n",
       "23             24        3391 2023-12-25 05:33:08           Debit  15683.66   \n",
       "24             25        2515 2024-12-11 14:28:01      Withdrawal   9729.08   \n",
       "25             26        4485 2023-03-03 10:29:34          Credit    918.45   \n",
       "26             27        3853 2024-08-23 13:38:09      Withdrawal  19336.90   \n",
       "27             28        3433 2023-06-26 02:58:56         Deposit   5612.22   \n",
       "28             29        2215 2025-01-26 04:56:29           Debit  14096.11   \n",
       "29             30        1955 2023-03-21 16:36:43          Credit   7813.07   \n",
       "30             31        3324 2024-03-27 11:04:26           Debit     70.63   \n",
       "31             32        2184 2024-04-15 08:04:34           Debit   3222.39   \n",
       "32             33        1459 2024-03-26 21:02:30        Transfer  13618.87   \n",
       "33             34        4385 2023-12-17 03:03:25           Debit  12897.41   \n",
       "34             35        1021 2023-06-06 10:51:15           Debit  15203.56   \n",
       "35             36        3300 2024-08-23 13:27:46        Transfer  17143.27   \n",
       "36             37        1747 2025-01-13 07:39:20      Withdrawal   7617.91   \n",
       "37             38        3904 2024-05-27 02:08:30         Deposit  13336.72   \n",
       "38             39        4632 2023-02-13 15:43:35      Withdrawal   9965.84   \n",
       "39             40        1474 2025-01-16 01:56:41           Debit    624.72   \n",
       "40             41        2082 2024-04-15 09:29:14         Deposit  14385.22   \n",
       "41             42        3558 2023-05-10 22:46:38        Transfer   8709.76   \n",
       "42             43        4753 2024-01-08 08:30:37          Credit   7619.46   \n",
       "43             44        3047 2023-08-24 10:06:12          Credit   2651.08   \n",
       "44             45        4547 2024-05-13 00:10:55          Credit  13076.74   \n",
       "45             46        3747 2023-03-20 03:16:20         Deposit  18290.35   \n",
       "46             47        1975 2024-11-02 12:36:55           Debit   9398.78   \n",
       "47             48        2806 2023-12-21 16:08:18        Transfer  11563.72   \n",
       "48             49        1189 2023-08-23 12:28:44      Withdrawal  14245.06   \n",
       "49             50        4005 2024-08-17 18:36:36           Debit   8340.98   \n",
       "\n",
       "         Location  isFraud  Hour  Year  DayofWeek  \n",
       "0          Boston        0     8  2023   Saturday  \n",
       "1     Los Angeles        0    20  2023    Tuesday  \n",
       "2           Miami        0    17  2023  Wednesday  \n",
       "3          Dallas        0     9  2023     Sunday  \n",
       "4     Los Angeles        0    16  2023   Thursday  \n",
       "5         Houston        0    17  2024   Saturday  \n",
       "6          Dallas        0     7  2024  Wednesday  \n",
       "7          Dallas        0    18  2024   Thursday  \n",
       "8         Houston        0     2  2024     Sunday  \n",
       "9           Miami        0     4  2024  Wednesday  \n",
       "10         Boston        0    13  2024    Tuesday  \n",
       "11         Boston        0    19  2023     Sunday  \n",
       "12        Houston        0    20  2023   Saturday  \n",
       "13      Las Vegas        0    18  2023     Sunday  \n",
       "14         Dallas        0    20  2023   Thursday  \n",
       "15  San Francisco        0    19  2024  Wednesday  \n",
       "16          Miami        0     5  2023  Wednesday  \n",
       "17         Dallas        0     6  2025  Wednesday  \n",
       "18    Los Angeles        0     6  2024   Saturday  \n",
       "19       New York        0    15  2023    Tuesday  \n",
       "20  San Francisco        0    22  2024    Tuesday  \n",
       "21    Los Angeles        0     1  2023   Thursday  \n",
       "22    Los Angeles        0     3  2023     Sunday  \n",
       "23         Dallas        0     5  2023     Monday  \n",
       "24         Boston        0    14  2024  Wednesday  \n",
       "25        Seattle        0    10  2023     Friday  \n",
       "26    Los Angeles        0    13  2024     Friday  \n",
       "27  San Francisco        0     2  2023     Monday  \n",
       "28        Seattle        0     4  2025     Sunday  \n",
       "29       New York        0    16  2023    Tuesday  \n",
       "30      Las Vegas        0    11  2024  Wednesday  \n",
       "31  San Francisco        0     8  2024     Monday  \n",
       "32        Seattle        0    21  2024    Tuesday  \n",
       "33        Seattle        0     3  2023     Sunday  \n",
       "34        Chicago        0    10  2023    Tuesday  \n",
       "35        Houston        0    13  2024     Friday  \n",
       "36    Los Angeles        0     7  2025     Monday  \n",
       "37       New York        0     2  2024     Monday  \n",
       "38        Seattle        0    15  2023     Monday  \n",
       "39          Miami        0     1  2025   Thursday  \n",
       "40        Chicago        0     9  2024     Monday  \n",
       "41    Los Angeles        0    22  2023  Wednesday  \n",
       "42        Seattle        0     8  2024     Monday  \n",
       "43        Seattle        0    10  2023   Thursday  \n",
       "44        Seattle        0     0  2024     Monday  \n",
       "45        Houston        0     3  2023     Monday  \n",
       "46      Las Vegas        0    12  2024   Saturday  \n",
       "47  San Francisco        0    16  2023   Thursday  \n",
       "48  San Francisco        0    12  2023  Wednesday  \n",
       "49         Boston        0    18  2024   Saturday  "
      ]
     },
     "execution_count": 131,
     "metadata": {},
     "output_type": "execute_result"
    }
   ],
   "source": [
    "df.head(50)"
   ]
  },
  {
   "cell_type": "markdown",
   "id": "3561e824-a750-47b5-85d4-0f5839b20894",
   "metadata": {},
   "source": [
    "####  Q.20 How do fradulent  transactions differ from non-fraudulent ones in terms of location?"
   ]
  },
  {
   "cell_type": "code",
   "execution_count": 136,
   "id": "0558ad77-ad7a-4cc3-91d1-d0ed42a5839d",
   "metadata": {},
   "outputs": [
    {
     "data": {
      "text/html": [
       "<div>\n",
       "<style scoped>\n",
       "    .dataframe tbody tr th:only-of-type {\n",
       "        vertical-align: middle;\n",
       "    }\n",
       "\n",
       "    .dataframe tbody tr th {\n",
       "        vertical-align: top;\n",
       "    }\n",
       "\n",
       "    .dataframe thead th {\n",
       "        text-align: right;\n",
       "    }\n",
       "</style>\n",
       "<table border=\"1\" class=\"dataframe\">\n",
       "  <thead>\n",
       "    <tr style=\"text-align: right;\">\n",
       "      <th>isFraud</th>\n",
       "      <th>0</th>\n",
       "      <th>1</th>\n",
       "    </tr>\n",
       "    <tr>\n",
       "      <th>Location</th>\n",
       "      <th></th>\n",
       "      <th></th>\n",
       "    </tr>\n",
       "  </thead>\n",
       "  <tbody>\n",
       "    <tr>\n",
       "      <th>Boston</th>\n",
       "      <td>99356</td>\n",
       "      <td>520</td>\n",
       "    </tr>\n",
       "    <tr>\n",
       "      <th>Chicago</th>\n",
       "      <td>99561</td>\n",
       "      <td>459</td>\n",
       "    </tr>\n",
       "    <tr>\n",
       "      <th>Dallas</th>\n",
       "      <td>99434</td>\n",
       "      <td>508</td>\n",
       "    </tr>\n",
       "    <tr>\n",
       "      <th>Houston</th>\n",
       "      <td>99043</td>\n",
       "      <td>507</td>\n",
       "    </tr>\n",
       "    <tr>\n",
       "      <th>Las Vegas</th>\n",
       "      <td>99253</td>\n",
       "      <td>523</td>\n",
       "    </tr>\n",
       "    <tr>\n",
       "      <th>Los Angeles</th>\n",
       "      <td>100266</td>\n",
       "      <td>482</td>\n",
       "    </tr>\n",
       "    <tr>\n",
       "      <th>Miami</th>\n",
       "      <td>99808</td>\n",
       "      <td>526</td>\n",
       "    </tr>\n",
       "    <tr>\n",
       "      <th>New York</th>\n",
       "      <td>99490</td>\n",
       "      <td>493</td>\n",
       "    </tr>\n",
       "    <tr>\n",
       "      <th>San Francisco</th>\n",
       "      <td>99756</td>\n",
       "      <td>516</td>\n",
       "    </tr>\n",
       "    <tr>\n",
       "      <th>Seattle</th>\n",
       "      <td>98968</td>\n",
       "      <td>531</td>\n",
       "    </tr>\n",
       "  </tbody>\n",
       "</table>\n",
       "</div>"
      ],
      "text/plain": [
       "isFraud             0    1\n",
       "Location                  \n",
       "Boston          99356  520\n",
       "Chicago         99561  459\n",
       "Dallas          99434  508\n",
       "Houston         99043  507\n",
       "Las Vegas       99253  523\n",
       "Los Angeles    100266  482\n",
       "Miami           99808  526\n",
       "New York        99490  493\n",
       "San Francisco   99756  516\n",
       "Seattle         98968  531"
      ]
     },
     "execution_count": 136,
     "metadata": {},
     "output_type": "execute_result"
    }
   ],
   "source": [
    "df.groupby([\"Location\",\"isFraud\"])[\"TransactionID\"].count().unstack().fillna(0)"
   ]
  },
  {
   "cell_type": "code",
   "execution_count": null,
   "id": "6655d7a0-478b-4c2c-8841-ba4399cdb405",
   "metadata": {},
   "outputs": [],
   "source": []
  }
 ],
 "metadata": {
  "kernelspec": {
   "display_name": "Python [conda env:base] *",
   "language": "python",
   "name": "conda-base-py"
  },
  "language_info": {
   "codemirror_mode": {
    "name": "ipython",
    "version": 3
   },
   "file_extension": ".py",
   "mimetype": "text/x-python",
   "name": "python",
   "nbconvert_exporter": "python",
   "pygments_lexer": "ipython3",
   "version": "3.12.7"
  }
 },
 "nbformat": 4,
 "nbformat_minor": 5
}
